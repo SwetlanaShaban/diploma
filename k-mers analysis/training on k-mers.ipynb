{
  "nbformat": 4,
  "nbformat_minor": 0,
  "metadata": {
    "colab": {
      "name": "fa.ipynb",
      "provenance": [],
      "collapsed_sections": [],
      "machine_shape": "hm"
    },
    "kernelspec": {
      "display_name": "Python 3",
      "language": "python",
      "name": "python3"
    },
    "language_info": {
      "codemirror_mode": {
        "name": "ipython",
        "version": 3
      },
      "file_extension": ".py",
      "mimetype": "text/x-python",
      "name": "python",
      "nbconvert_exporter": "python",
      "pygments_lexer": "ipython3",
      "version": "3.6.5"
    }
  },
  "cells": [
    {
      "cell_type": "code",
      "metadata": {
        "id": "cYSI1SMWiD4z",
        "colab_type": "code",
        "colab": {}
      },
      "source": [
        "import os\n",
        "from tqdm import tqdm\n",
        "import matplotlib.pyplot as plt\n",
        "import numpy as np\n",
        "import pandas as pd"
      ],
      "execution_count": 0,
      "outputs": []
    },
    {
      "cell_type": "code",
      "metadata": {
        "id": "1x1XoZ6QxJD1",
        "colab_type": "code",
        "outputId": "cbcd7a15-d7e5-47c2-a6e0-93ccd907b952",
        "colab": {
          "base_uri": "https://localhost:8080/",
          "height": 34
        }
      },
      "source": [
        "files = os.listdir('fa/')\n",
        "d = {}\n",
        "d_count = {}\n",
        "for file in tqdm(files):\n",
        "    with open('fa/'+file) as fp:\n",
        "      a = fp.readline()\n",
        "      b = fp.readline()\n",
        "      while a:\n",
        "          if b[:-1] in d:\n",
        "              d[b[:-1]] += int(a[1:])\n",
        "              d_count[b[:-1]] += 1\n",
        "          else:\n",
        "              d[b[:-1]] = int(a[1:])\n",
        "              d_count[b[:-1]] = 1\n",
        "          a = fp.readline()\n",
        "          b = fp.readline()"
      ],
      "execution_count": 0,
      "outputs": [
        {
          "output_type": "stream",
          "text": [
            "100%|██████████| 1157/1157 [00:40<00:00, 28.47it/s]\n"
          ],
          "name": "stderr"
        }
      ]
    },
    {
      "cell_type": "code",
      "metadata": {
        "id": "8hmWtlvJ6_Xo",
        "colab_type": "code",
        "outputId": "360a71fe-8438-436f-fd6a-a07826a35576",
        "colab": {
          "base_uri": "https://localhost:8080/",
          "height": 34
        }
      },
      "source": [
        "print(max(d_count.values()), min(d_count.values()), sum(d_count.values()), len(d_count.values()))"
      ],
      "execution_count": 0,
      "outputs": [
        {
          "output_type": "stream",
          "text": [
            "521 1 17609367 6356095\n"
          ],
          "name": "stdout"
        }
      ]
    },
    {
      "cell_type": "code",
      "metadata": {
        "id": "VoLDdfBmqMk3",
        "colab_type": "code",
        "outputId": "bb67f368-a790-4c47-da94-10f6981b7b3c",
        "colab": {
          "base_uri": "https://localhost:8080/",
          "height": 34
        }
      },
      "source": [
        "print(max(d.values()), min(d.values()), sum(d.values()), len(d.values()))"
      ],
      "execution_count": 0,
      "outputs": [
        {
          "output_type": "stream",
          "text": [
            "315546 2 119876039 6356095\n"
          ],
          "name": "stdout"
        }
      ]
    },
    {
      "cell_type": "code",
      "metadata": {
        "id": "DAlkeRyT5tqC",
        "colab_type": "code",
        "colab": {}
      },
      "source": [
        "for el in d_count:\n",
        "  if d_count[el] == 1:\n",
        "      del d[el]"
      ],
      "execution_count": 0,
      "outputs": []
    },
    {
      "cell_type": "code",
      "metadata": {
        "id": "8VHvxQuU8CEk",
        "colab_type": "code",
        "outputId": "f960d516-0783-45f8-dc77-d56711252eea",
        "colab": {
          "base_uri": "https://localhost:8080/",
          "height": 34
        }
      },
      "source": [
        "print(max(d.values()), min(d.values()), sum(d.values()), len(d.values()))"
      ],
      "execution_count": 0,
      "outputs": [
        {
          "output_type": "stream",
          "text": [
            "315546 4 114130449 3651199\n"
          ],
          "name": "stdout"
        }
      ]
    },
    {
      "cell_type": "code",
      "metadata": {
        "id": "0-lJ-8NE8NnB",
        "colab_type": "code",
        "colab": {}
      },
      "source": [
        "for el in d_count:\n",
        "  if d_count[el] == 2:\n",
        "      del d[el]"
      ],
      "execution_count": 0,
      "outputs": []
    },
    {
      "cell_type": "code",
      "metadata": {
        "id": "Tz5WZP4U8Txx",
        "colab_type": "code",
        "outputId": "c1820a90-5249-421d-f65f-b93ea4b882b4",
        "colab": {
          "base_uri": "https://localhost:8080/",
          "height": 34
        }
      },
      "source": [
        "print(max(d.values()), min(d.values()), sum(d.values()), len(d.values()))"
      ],
      "execution_count": 0,
      "outputs": [
        {
          "output_type": "stream",
          "text": [
            "315546 6 109196788 2489616\n"
          ],
          "name": "stdout"
        }
      ]
    },
    {
      "cell_type": "code",
      "metadata": {
        "id": "p0Sh0S2w8qP_",
        "colab_type": "code",
        "colab": {}
      },
      "source": [
        "for el in d_count:\n",
        "  if d_count[el] in [3, 4, 5]:\n",
        "      del d[el]"
      ],
      "execution_count": 0,
      "outputs": []
    },
    {
      "cell_type": "code",
      "metadata": {
        "id": "6cWDjSkJ81WV",
        "colab_type": "code",
        "outputId": "5f40e446-caf5-4506-b52f-a9dd8d6ee418",
        "colab": {
          "base_uri": "https://localhost:8080/",
          "height": 34
        }
      },
      "source": [
        "print(max(d.values()), min(d.values()), sum(d.values()), len(d.values()))"
      ],
      "execution_count": 0,
      "outputs": [
        {
          "output_type": "stream",
          "text": [
            "315546 12 92678066 503893\n"
          ],
          "name": "stdout"
        }
      ]
    },
    {
      "cell_type": "code",
      "metadata": {
        "id": "nJ4ppVmR0wTv",
        "colab_type": "code",
        "outputId": "d3909ce2-cad1-4752-ae8b-bd77d36d0b57",
        "colab": {
          "base_uri": "https://localhost:8080/",
          "height": 34
        }
      },
      "source": [
        "X = np.zeros((1157, len(d)))\n",
        "res_dict = dict(zip(list(d.keys()), range(len(d))))\n",
        "\n",
        "for i in tqdm(range(len(files))):\n",
        "    with open('fa/'+files[i]) as fp:\n",
        "      a = fp.readline()\n",
        "      b = fp.readline()\n",
        "      while a:\n",
        "          if b[:-1] in res_dict:\n",
        "              X[i, res_dict[b[:-1]]] = int(a[1:])\n",
        "          a = fp.readline()\n",
        "          b = fp.readline()\n",
        "\n",
        "srr = [f[:-3] for f in files]\n",
        "\n",
        "X = pd.DataFrame(index=srr, data=X)"
      ],
      "execution_count": 0,
      "outputs": [
        {
          "output_type": "stream",
          "text": [
            "100%|██████████| 1157/1157 [00:18<00:00, 62.41it/s]\n"
          ],
          "name": "stderr"
        }
      ]
    },
    {
      "cell_type": "code",
      "metadata": {
        "colab_type": "code",
        "id": "sDnIueRvp4tX",
        "colab": {}
      },
      "source": [
        "df = pd.read_excel('phenotypic test results.xlsx')\n",
        "df = df.replace('I', np.nan)\n",
        "df = df.replace('IR', 1)\n",
        "df = df.replace('R', 1)\n",
        "df = df.replace('RS', 1)\n",
        "df = df.replace('IS', 0)\n",
        "df = df.replace('S', 0)\n",
        "df = df.replace('SI', 0)\n",
        "df = df.replace('SR', 0)\n",
        "y = pd.DataFrame(columns=df.to_numpy().T[0], index=[df.columns[1:]], data=df.to_numpy().T[1:])\n",
        "\n",
        "u, c = np.unique(y.columns, return_counts=True)\n",
        "dup = u[c > 1]\n",
        "df_dulicated = y[dup]\n",
        "y = y.drop(columns=dup)\n",
        "\n",
        "for x in dup:\n",
        "  l1 = df_dulicated[x].to_numpy(dtype=np.float64)[:, 0]\n",
        "  l2 = df_dulicated[x].to_numpy(dtype=np.float64)[:, 1]\n",
        "  if sum(np.isnan(l1)) > sum(np.isnan(l2)):\n",
        "    y[x] = l2\n",
        "  else:\n",
        "    y[x] = l1\n",
        "y = y[srr]"
      ],
      "execution_count": 0,
      "outputs": []
    },
    {
      "cell_type": "code",
      "metadata": {
        "id": "qPQynr5yRdSC",
        "colab_type": "code",
        "outputId": "ba225a00-cfe1-4611-bfdb-629b1521c87c",
        "colab": {
          "base_uri": "https://localhost:8080/",
          "height": 1000
        }
      },
      "source": [
        "from sklearn.feature_selection import SelectKBest, chi2\n",
        "from sklearn.ensemble import RandomForestClassifier, GradientBoostingClassifier, AdaBoostClassifier\n",
        "from sklearn.svm import SVC, LinearSVC\n",
        "from sklearn.linear_model import LogisticRegression\n",
        "from sklearn.metrics import accuracy_score, precision_score, recall_score, roc_auc_score, f1_score\n",
        "from sklearn.model_selection import StratifiedKFold, cross_validate\n",
        "from statistics import mean\n",
        "import warnings\n",
        "warnings.filterwarnings('ignore')\n",
        "\n",
        "df_results = pd.DataFrame(columns=['classifier', 'Accuracy', 'Recall', 'Precision', 'AUC', 'F1-Score', 'drug'])\n",
        "skf = StratifiedKFold()\n",
        "\n",
        "for clf, name in zip([LogisticRegression(penalty='l1', solver='liblinear'), LogisticRegression(penalty='l2'), LinearSVC(), SVC(),\\\n",
        "                      AdaBoostClassifier(n_estimators=10), GradientBoostingClassifier(max_features='sqrt'), RandomForestClassifier()],\\\n",
        "            ['LR-L1','LR-L2', 'LinearSVC', 'SVC', 'AdaBoost', 'GB', 'RF']):\n",
        "    for drug in tqdm(y.index.values):\n",
        "        y_new = y.loc[drug[0]].dropna(1)\n",
        "        X_new = X.loc[y_new.columns].to_numpy()\n",
        "        y_new = y_new.to_numpy().astype('int')[0]\n",
        "        acc, r, p, auc, f1 = 0.0, 0.0, 0.0, 0.0, 0.0\n",
        "        for train_index, test_index in skf.split(X_new, y_new):\n",
        "            X_train, X_test = X_new[train_index], X_new[test_index]\n",
        "            y_train, y_test = y_new[train_index], y_new[test_index]\n",
        "            k_best = SelectKBest(chi2, k=1000)\n",
        "            X_train = k_best.fit_transform(X_train, y_train)\n",
        "            X_test = k_best.transform(X_test)\n",
        "            clf.fit(X_train, y_train)\n",
        "            y_pred = clf.predict(X_test)\n",
        "            acc += accuracy_score(y_pred, y_test) / 5\n",
        "            p += precision_score(y_pred, y_test) / 5\n",
        "            r += recall_score(y_pred, y_test) / 5\n",
        "            try:\n",
        "                auc += roc_auc_score(y_pred, y_test) / 5\n",
        "            except ValueError:\n",
        "                auc += 0\n",
        "            f1 += f1_score(y_pred, y_test) / 5\n",
        "        print(name, acc, r, p, auc, f1, drug[0])\n",
        "        df_results = df_results.append(pd.Series([name, acc, r, p, auc, f1, drug[0]], index=df_results.columns), ignore_index=True)"
      ],
      "execution_count": 0,
      "outputs": [
        {
          "output_type": "stream",
          "text": [
            "\n",
            "  0%|          | 0/9 [00:00<?, ?it/s]\u001b[A\n",
            " 11%|█         | 1/9 [00:27<03:40, 27.52s/it]\u001b[A"
          ],
          "name": "stderr"
        },
        {
          "output_type": "stream",
          "text": [
            "LR-L1 0.7818416555914183 0.8036944578641295 0.9629781420765027 0.534429352690659 0.8759659261718843 INH\n"
          ],
          "name": "stdout"
        },
        {
          "output_type": "stream",
          "text": [
            "\n",
            " 22%|██▏       | 2/9 [00:55<03:12, 27.54s/it]\u001b[A"
          ],
          "name": "stderr"
        },
        {
          "output_type": "stream",
          "text": [
            "LR-L1 0.5783783783783784 0.6029264087817847 0.8805970149253732 0.5077614812774046 0.715279738392227 EMB\n"
          ],
          "name": "stdout"
        },
        {
          "output_type": "stream",
          "text": [
            "\n",
            " 33%|███▎      | 3/9 [01:24<02:48, 28.15s/it]\u001b[A"
          ],
          "name": "stderr"
        },
        {
          "output_type": "stream",
          "text": [
            "LR-L1 0.7696373647237518 0.7859881807475014 0.9711111111111113 0.5108512332308935 0.8687580690461716 RIF\n"
          ],
          "name": "stdout"
        },
        {
          "output_type": "stream",
          "text": [
            "\n",
            " 44%|████▍     | 4/9 [02:00<02:32, 30.59s/it]\u001b[A"
          ],
          "name": "stderr"
        },
        {
          "output_type": "stream",
          "text": [
            "LR-L1 0.6190476190476191 0.6172269153548663 0.9052631578947368 0.6505777433917188 0.7258172790466733 PZA\n"
          ],
          "name": "stdout"
        },
        {
          "output_type": "stream",
          "text": [
            "\n",
            " 56%|█████▌    | 5/9 [02:30<02:01, 30.39s/it]\u001b[A"
          ],
          "name": "stderr"
        },
        {
          "output_type": "stream",
          "text": [
            "LR-L1 0.7703703703703704 0.7863121541552269 0.9717298990602159 0.5045197134412498 0.869137328239298 SM\n"
          ],
          "name": "stdout"
        },
        {
          "output_type": "stream",
          "text": [
            "\n",
            " 67%|██████▋   | 6/9 [02:50<01:21, 27.21s/it]\u001b[A"
          ],
          "name": "stderr"
        },
        {
          "output_type": "stream",
          "text": [
            "LR-L1 0.5174603174603175 0.3768425421353505 0.47039548022598865 0.47232867847508264 0.393844599425429 KAN\n"
          ],
          "name": "stdout"
        },
        {
          "output_type": "stream",
          "text": [
            "\n",
            " 78%|███████▊  | 7/9 [03:13<00:51, 25.82s/it]\u001b[A"
          ],
          "name": "stderr"
        },
        {
          "output_type": "stream",
          "text": [
            "LR-L1 0.6735876174682145 0.2984090909090909 0.09602564102564103 0.5040908490780102 0.14393939393939395 AM\n"
          ],
          "name": "stdout"
        },
        {
          "output_type": "stream",
          "text": [
            "\n",
            " 89%|████████▉ | 8/9 [03:40<00:26, 26.37s/it]\u001b[A"
          ],
          "name": "stderr"
        },
        {
          "output_type": "stream",
          "text": [
            "LR-L1 0.6588405961997953 0.3418686868686869 0.10175438596491226 0.5192157258743682 0.1530373702264931 CAP\n"
          ],
          "name": "stdout"
        },
        {
          "output_type": "stream",
          "text": [
            "\n",
            "100%|██████████| 9/9 [04:05<00:00, 27.27s/it]\n",
            "\n",
            "  0%|          | 0/9 [00:00<?, ?it/s]\u001b[A"
          ],
          "name": "stderr"
        },
        {
          "output_type": "stream",
          "text": [
            "LR-L1 0.5326371100164204 0.5807373040549294 0.34871995820271684 0.5562492775605172 0.37317372231911633 OFX\n"
          ],
          "name": "stdout"
        },
        {
          "output_type": "stream",
          "text": [
            "\n",
            " 11%|█         | 1/9 [00:26<03:34, 26.87s/it]\u001b[A"
          ],
          "name": "stderr"
        },
        {
          "output_type": "stream",
          "text": [
            "LR-L2 0.7783482058097588 0.8024316498061768 0.9597053932050368 0.4874598440418443 0.8738620286998593 INH\n"
          ],
          "name": "stdout"
        },
        {
          "output_type": "stream",
          "text": [
            "\n",
            " 22%|██▏       | 2/9 [00:53<03:07, 26.74s/it]\u001b[A"
          ],
          "name": "stderr"
        },
        {
          "output_type": "stream",
          "text": [
            "LR-L2 0.5783783783783784 0.6049385423065547 0.8686567164179103 0.506330419751268 0.7131077527520182 EMB\n"
          ],
          "name": "stdout"
        },
        {
          "output_type": "stream",
          "text": [
            "\n",
            " 33%|███▎      | 3/9 [01:22<02:44, 27.35s/it]\u001b[A"
          ],
          "name": "stderr"
        },
        {
          "output_type": "stream",
          "text": [
            "LR-L2 0.7705031327131194 0.7887627135042928 0.9666666666666667 0.5502146900854797 0.8686486946882335 RIF\n"
          ],
          "name": "stdout"
        },
        {
          "output_type": "stream",
          "text": [
            "\n",
            " 44%|████▍     | 4/9 [01:58<02:30, 30.15s/it]\u001b[A"
          ],
          "name": "stderr"
        },
        {
          "output_type": "stream",
          "text": [
            "LR-L2 0.5736507936507937 0.5908012871444462 0.8210526315789474 0.5537966335471605 0.6761562071637165 PZA\n"
          ],
          "name": "stdout"
        },
        {
          "output_type": "stream",
          "text": [
            "\n",
            " 56%|█████▌    | 5/9 [02:28<01:59, 29.98s/it]\u001b[A"
          ],
          "name": "stderr"
        },
        {
          "output_type": "stream",
          "text": [
            "LR-L2 0.7648148148148147 0.7850803406610687 0.9646432300730944 0.47955648734685136 0.8655655838404944 SM\n"
          ],
          "name": "stdout"
        },
        {
          "output_type": "stream",
          "text": [
            "\n",
            " 67%|██████▋   | 6/9 [02:48<01:20, 26.91s/it]\u001b[A"
          ],
          "name": "stderr"
        },
        {
          "output_type": "stream",
          "text": [
            "LR-L2 0.5365079365079365 0.4265117235705471 0.3405084745762712 0.4896349023923421 0.34390920175716977 KAN\n"
          ],
          "name": "stdout"
        },
        {
          "output_type": "stream",
          "text": [
            "\n",
            " 78%|███████▊  | 7/9 [03:08<00:50, 25.10s/it]\u001b[A"
          ],
          "name": "stderr"
        },
        {
          "output_type": "stream",
          "text": [
            "LR-L2 0.6810281923714758 0.39 0.12179487179487178 0.5526836321182684 0.1828181818181818 AM\n"
          ],
          "name": "stdout"
        },
        {
          "output_type": "stream",
          "text": [
            "\n",
            " 89%|████████▉ | 8/9 [03:33<00:24, 24.90s/it]\u001b[A"
          ],
          "name": "stderr"
        },
        {
          "output_type": "stream",
          "text": [
            "LR-L2 0.6556491068380931 0.36094444444444446 0.13684210526315788 0.5307369603830445 0.18856998811378295 CAP\n"
          ],
          "name": "stdout"
        },
        {
          "output_type": "stream",
          "text": [
            "\n",
            "100%|██████████| 9/9 [03:56<00:00, 26.33s/it]\n",
            "\n",
            "  0%|          | 0/9 [00:00<?, ?it/s]\u001b[A"
          ],
          "name": "stderr"
        },
        {
          "output_type": "stream",
          "text": [
            "LR-L2 0.5520788177339901 0.5692389337570061 0.3787095088819227 0.5592451270340182 0.42116918072188975 OFX\n"
          ],
          "name": "stdout"
        },
        {
          "output_type": "stream",
          "text": [
            "\n",
            " 11%|█         | 1/9 [00:26<03:34, 26.87s/it]\u001b[A"
          ],
          "name": "stderr"
        },
        {
          "output_type": "stream",
          "text": [
            "LinearSVC 0.766121131573951 0.8093600548138625 0.9270729389403658 0.5532033952920012 0.8630674351670551 INH\n"
          ],
          "name": "stdout"
        },
        {
          "output_type": "stream",
          "text": [
            "\n",
            " 22%|██▏       | 2/9 [00:53<03:06, 26.69s/it]\u001b[A"
          ],
          "name": "stderr"
        },
        {
          "output_type": "stream",
          "text": [
            "LinearSVC 0.5603603603603604 0.6230310077502925 0.7149253731343284 0.5161239833137228 0.6574187839530244 EMB\n"
          ],
          "name": "stdout"
        },
        {
          "output_type": "stream",
          "text": [
            "\n",
            " 33%|███▎      | 3/9 [01:22<02:44, 27.35s/it]\u001b[A"
          ],
          "name": "stderr"
        },
        {
          "output_type": "stream",
          "text": [
            "LinearSVC 0.7294892728308334 0.7840466994419031 0.9044444444444444 0.4966495752111476 0.8375038656260182 RIF\n"
          ],
          "name": "stdout"
        },
        {
          "output_type": "stream",
          "text": [
            "\n",
            " 44%|████▍     | 4/9 [01:58<02:30, 30.00s/it]\u001b[A"
          ],
          "name": "stderr"
        },
        {
          "output_type": "stream",
          "text": [
            "LinearSVC 0.6076190476190476 0.6024269086103873 0.8526315789473684 0.5254304872722266 0.6976418960680835 PZA\n"
          ],
          "name": "stdout"
        },
        {
          "output_type": "stream",
          "text": [
            "\n",
            " 56%|█████▌    | 5/9 [02:27<01:59, 29.89s/it]\u001b[A"
          ],
          "name": "stderr"
        },
        {
          "output_type": "stream",
          "text": [
            "LinearSVC 0.6675925925925925 0.7868965875742115 0.788673860076575 0.5152802071886402 0.7849373722920121 SM\n"
          ],
          "name": "stdout"
        },
        {
          "output_type": "stream",
          "text": [
            "\n",
            " 67%|██████▋   | 6/9 [02:47<01:20, 26.78s/it]\u001b[A"
          ],
          "name": "stderr"
        },
        {
          "output_type": "stream",
          "text": [
            "LinearSVC 0.5317460317460319 0.4137333017820823 0.6254237288135593 0.4525232165476068 0.48975667746545626 KAN\n"
          ],
          "name": "stdout"
        },
        {
          "output_type": "stream",
          "text": [
            "\n",
            " 78%|███████▊  | 7/9 [03:08<00:50, 25.07s/it]\u001b[A"
          ],
          "name": "stderr"
        },
        {
          "output_type": "stream",
          "text": [
            "LinearSVC 0.5993366500829188 0.3186881224753229 0.23897435897435898 0.5089166000275969 0.2551029288735387 AM\n"
          ],
          "name": "stdout"
        },
        {
          "output_type": "stream",
          "text": [
            "\n",
            " 89%|████████▉ | 8/9 [03:32<00:24, 24.88s/it]\u001b[A"
          ],
          "name": "stderr"
        },
        {
          "output_type": "stream",
          "text": [
            "LinearSVC 0.6119581294800318 0.3325278248321727 0.17192982456140352 0.5096229909209 0.21551827983513713 CAP\n"
          ],
          "name": "stdout"
        },
        {
          "output_type": "stream",
          "text": [
            "\n",
            "100%|██████████| 9/9 [03:56<00:00, 26.30s/it]\n",
            "\n",
            "  0%|          | 0/9 [00:00<?, ?it/s]\u001b[A"
          ],
          "name": "stderr"
        },
        {
          "output_type": "stream",
          "text": [
            "LinearSVC 0.5280262725779967 0.5496388822780808 0.5805120167189133 0.5480598015613969 0.526201716916877 OFX\n"
          ],
          "name": "stdout"
        },
        {
          "output_type": "stream",
          "text": [
            "\n",
            " 11%|█         | 1/9 [00:30<04:00, 30.12s/it]\u001b[A"
          ],
          "name": "stderr"
        },
        {
          "output_type": "stream",
          "text": [
            "SVC 0.7993013100436681 0.8017745488271438 0.9956521739130435 0.2277286135693216 0.8882395348225327 INH\n"
          ],
          "name": "stdout"
        },
        {
          "output_type": "stream",
          "text": [
            "\n",
            " 22%|██▏       | 2/9 [01:02<03:34, 30.71s/it]\u001b[A"
          ],
          "name": "stderr"
        },
        {
          "output_type": "stream",
          "text": [
            "SVC 0.5810810810810811 0.6093907180283966 0.853731343283582 0.520914152249832 0.7102701923739996 EMB\n"
          ],
          "name": "stdout"
        },
        {
          "output_type": "stream",
          "text": [
            "\n",
            " 33%|███▎      | 3/9 [01:34<03:07, 31.20s/it]\u001b[A"
          ],
          "name": "stderr"
        },
        {
          "output_type": "stream",
          "text": [
            "SVC 0.7835997721663186 0.7859737330737295 0.9955555555555555 0.3191149596955256 0.878430198352633 RIF\n"
          ],
          "name": "stdout"
        },
        {
          "output_type": "stream",
          "text": [
            "\n",
            " 44%|████▍     | 4/9 [02:10<02:43, 32.73s/it]\u001b[A"
          ],
          "name": "stderr"
        },
        {
          "output_type": "stream",
          "text": [
            "SVC 0.5957142857142856 0.5816594516594517 0.9157894736842105 0.5365440115440115 0.7094662797715526 PZA\n"
          ],
          "name": "stdout"
        },
        {
          "output_type": "stream",
          "text": [
            "\n",
            " 56%|█████▌    | 5/9 [02:43<02:10, 32.71s/it]\u001b[A"
          ],
          "name": "stderr"
        },
        {
          "output_type": "stream",
          "text": [
            "SVC 0.7851851851851852 0.7857217030114227 0.9988235294117647 0.12897196261682242 0.8795421040531146 SM\n"
          ],
          "name": "stdout"
        },
        {
          "output_type": "stream",
          "text": [
            "\n",
            " 67%|██████▋   | 6/9 [03:05<01:28, 29.41s/it]\u001b[A"
          ],
          "name": "stderr"
        },
        {
          "output_type": "stream",
          "text": [
            "SVC 0.5047619047619049 0.3305858883970049 0.34355932203389833 0.3806768463281097 0.2757886125282642 KAN\n"
          ],
          "name": "stdout"
        },
        {
          "output_type": "stream",
          "text": [
            "\n",
            " 78%|███████▊  | 7/9 [03:27<00:54, 27.32s/it]\u001b[A"
          ],
          "name": "stderr"
        },
        {
          "output_type": "stream",
          "text": [
            "SVC 0.6973576561636263 0.29000000000000004 0.015256410256410256 0.49825275529205654 0.028181818181818183 AM\n"
          ],
          "name": "stdout"
        },
        {
          "output_type": "stream",
          "text": [
            "\n",
            " 89%|████████▉ | 8/9 [03:55<00:27, 27.41s/it]\u001b[A"
          ],
          "name": "stderr"
        },
        {
          "output_type": "stream",
          "text": [
            "SVC 0.6727158948685857 0.12285714285714286 0.02456140350877193 0.4073417746579757 0.0407820054656296 CAP\n"
          ],
          "name": "stdout"
        },
        {
          "output_type": "stream",
          "text": [
            "\n",
            "100%|██████████| 9/9 [04:22<00:00, 29.18s/it]\n",
            "\n",
            "  0%|          | 0/9 [00:00<?, ?it/s]\u001b[A"
          ],
          "name": "stderr"
        },
        {
          "output_type": "stream",
          "text": [
            "SVC 0.5475270935960591 0.5396168632898979 0.6176332288401253 0.5580788996359631 0.5473398005593613 OFX\n"
          ],
          "name": "stdout"
        },
        {
          "output_type": "stream",
          "text": [
            "\n",
            " 11%|█         | 1/9 [00:27<03:36, 27.06s/it]\u001b[A"
          ],
          "name": "stderr"
        },
        {
          "output_type": "stream",
          "text": [
            "AdaBoost 0.7862008733624455 0.8012095564253099 0.9749227845093846 0.435604778212655 0.8795038576633011 INH\n"
          ],
          "name": "stdout"
        },
        {
          "output_type": "stream",
          "text": [
            "\n",
            " 22%|██▏       | 2/9 [00:53<03:09, 27.01s/it]\u001b[A"
          ],
          "name": "stderr"
        },
        {
          "output_type": "stream",
          "text": [
            "AdaBoost 0.5891891891891892 0.6298818224674594 0.7880597014925372 0.5445617894576593 0.6956673153651588 EMB\n"
          ],
          "name": "stdout"
        },
        {
          "output_type": "stream",
          "text": [
            "\n",
            " 33%|███▎      | 3/9 [01:22<02:44, 27.49s/it]\u001b[A"
          ],
          "name": "stderr"
        },
        {
          "output_type": "stream",
          "text": [
            "AdaBoost 0.7739889880387318 0.7854208665137881 0.9800000000000002 0.38667178591389884 0.8719354278103295 RIF\n"
          ],
          "name": "stdout"
        },
        {
          "output_type": "stream",
          "text": [
            "\n",
            " 44%|████▍     | 4/9 [01:58<02:30, 30.15s/it]\u001b[A"
          ],
          "name": "stderr"
        },
        {
          "output_type": "stream",
          "text": [
            "AdaBoost 0.6017460317460317 0.6070799220272904 0.8315789473684211 0.5810399610136452 0.69579922670129 PZA\n"
          ],
          "name": "stdout"
        },
        {
          "output_type": "stream",
          "text": [
            "\n",
            " 56%|█████▌    | 5/9 [02:28<02:00, 30.02s/it]\u001b[A"
          ],
          "name": "stderr"
        },
        {
          "output_type": "stream",
          "text": [
            "AdaBoost 0.7824074074074074 0.7877929300169196 0.9893908806126 0.6472297983417932 0.8771438512206621 SM\n"
          ],
          "name": "stdout"
        },
        {
          "output_type": "stream",
          "text": [
            "\n",
            " 67%|██████▋   | 6/9 [02:48<01:20, 26.92s/it]\u001b[A"
          ],
          "name": "stderr"
        },
        {
          "output_type": "stream",
          "text": [
            "AdaBoost 0.5634920634920635 0.5364120506504413 0.79909604519774 0.5990666924958669 0.6352680906812639 KAN\n"
          ],
          "name": "stdout"
        },
        {
          "output_type": "stream",
          "text": [
            "\n",
            " 78%|███████▊  | 7/9 [03:09<00:50, 25.18s/it]\u001b[A"
          ],
          "name": "stderr"
        },
        {
          "output_type": "stream",
          "text": [
            "AdaBoost 0.6735544499723605 0.16303030303030303 0.025384615384615384 0.43171483363554275 0.04235447977640669 AM\n"
          ],
          "name": "stdout"
        },
        {
          "output_type": "stream",
          "text": [
            "\n",
            " 89%|████████▉ | 8/9 [03:33<00:24, 24.99s/it]\u001b[A"
          ],
          "name": "stderr"
        },
        {
          "output_type": "stream",
          "text": [
            "AdaBoost 0.6876436454659233 0.3288888888888889 0.031578947368421054 0.5131438606232588 0.05692354534237136 CAP\n"
          ],
          "name": "stdout"
        },
        {
          "output_type": "stream",
          "text": [
            "\n",
            "100%|██████████| 9/9 [03:57<00:00, 26.43s/it]\n",
            "\n",
            "  0%|          | 0/9 [00:00<?, ?it/s]\u001b[A"
          ],
          "name": "stderr"
        },
        {
          "output_type": "stream",
          "text": [
            "AdaBoost 0.5589162561576355 0.5566780386988411 0.5365987460815047 0.5702172326659619 0.4986081208944988 OFX\n"
          ],
          "name": "stdout"
        },
        {
          "output_type": "stream",
          "text": [
            "\n",
            " 11%|█         | 1/9 [00:27<03:36, 27.09s/it]\u001b[A"
          ],
          "name": "stderr"
        },
        {
          "output_type": "stream",
          "text": [
            "GB 0.7896943231441047 0.80311306808888 0.9771026372059872 0.4148898673777734 0.8814860574195522 INH\n"
          ],
          "name": "stdout"
        },
        {
          "output_type": "stream",
          "text": [
            "\n",
            " 22%|██▏       | 2/9 [00:53<03:09, 27.01s/it]\u001b[A"
          ],
          "name": "stderr"
        },
        {
          "output_type": "stream",
          "text": [
            "GB 0.5738738738738738 0.6010516270972324 0.8701492537313433 0.5009706827868586 0.7097125282554728 EMB\n"
          ],
          "name": "stdout"
        },
        {
          "output_type": "stream",
          "text": [
            "\n",
            " 33%|███▎      | 3/9 [01:22<02:45, 27.51s/it]\u001b[A"
          ],
          "name": "stderr"
        },
        {
          "output_type": "stream",
          "text": [
            "GB 0.7792405543952916 0.7870775631948295 0.9855555555555555 0.516872114930748 0.875193713908898 RIF\n"
          ],
          "name": "stdout"
        },
        {
          "output_type": "stream",
          "text": [
            "\n",
            " 44%|████▍     | 4/9 [01:59<02:30, 30.20s/it]\u001b[A"
          ],
          "name": "stderr"
        },
        {
          "output_type": "stream",
          "text": [
            "GB 0.6415873015873015 0.624354381250933 0.894736842105263 0.632751061199337 0.7327903472483057 PZA\n"
          ],
          "name": "stdout"
        },
        {
          "output_type": "stream",
          "text": [
            "\n",
            " 56%|█████▌    | 5/9 [02:28<02:00, 30.06s/it]\u001b[A"
          ],
          "name": "stderr"
        },
        {
          "output_type": "stream",
          "text": [
            "GB 0.788888888888889 0.7930811674301762 0.9893908806126002 0.5436702133447178 0.8803860687233973 SM\n"
          ],
          "name": "stdout"
        },
        {
          "output_type": "stream",
          "text": [
            "\n",
            " 67%|██████▋   | 6/9 [02:48<01:21, 27.04s/it]\u001b[A"
          ],
          "name": "stderr"
        },
        {
          "output_type": "stream",
          "text": [
            "GB 0.5142857142857143 0.3806566337226715 0.5003389830508476 0.4761179994010183 0.39786898912827284 KAN\n"
          ],
          "name": "stdout"
        },
        {
          "output_type": "stream",
          "text": [
            "\n",
            " 78%|███████▊  | 7/9 [03:09<00:50, 25.24s/it]\u001b[A"
          ],
          "name": "stderr"
        },
        {
          "output_type": "stream",
          "text": [
            "GB 0.6721171918186843 0.18000000000000002 0.040512820512820506 0.44095361982191245 0.06539148992930506 AM\n"
          ],
          "name": "stdout"
        },
        {
          "output_type": "stream",
          "text": [
            "\n",
            " 89%|████████▉ | 8/9 [03:34<00:25, 25.08s/it]\u001b[A"
          ],
          "name": "stderr"
        },
        {
          "output_type": "stream",
          "text": [
            "GB 0.6577596996245306 0.3198039903922257 0.09473684210526315 0.5076508305613621 0.13797727733991813 CAP\n"
          ],
          "name": "stdout"
        },
        {
          "output_type": "stream",
          "text": [
            "\n",
            "100%|██████████| 9/9 [03:58<00:00, 26.48s/it]\n",
            "\n",
            "  0%|          | 0/9 [00:00<?, ?it/s]\u001b[A"
          ],
          "name": "stderr"
        },
        {
          "output_type": "stream",
          "text": [
            "GB 0.5600656814449918 0.5619706919078065 0.4820010449320795 0.5652239795811355 0.4788006617491113 OFX\n"
          ],
          "name": "stdout"
        },
        {
          "output_type": "stream",
          "text": [
            "\n",
            " 11%|█         | 1/9 [00:29<03:52, 29.09s/it]\u001b[A"
          ],
          "name": "stderr"
        },
        {
          "output_type": "stream",
          "text": [
            "RF 0.7844731346117335 0.8110561627835408 0.9531598954621051 0.5738614147251038 0.8762324483966412 INH\n"
          ],
          "name": "stdout"
        },
        {
          "output_type": "stream",
          "text": [
            "\n",
            " 22%|██▏       | 2/9 [00:58<03:23, 29.07s/it]\u001b[A"
          ],
          "name": "stderr"
        },
        {
          "output_type": "stream",
          "text": [
            "RF 0.5666666666666667 0.6222602488586095 0.7208955223880598 0.5300159014448256 0.6656548410029708 EMB\n"
          ],
          "name": "stdout"
        },
        {
          "output_type": "stream",
          "text": [
            "\n",
            " 33%|███▎      | 3/9 [01:29<02:57, 29.62s/it]\u001b[A"
          ],
          "name": "stderr"
        },
        {
          "output_type": "stream",
          "text": [
            "RF 0.7373571292956141 0.7879560901852608 0.9099999999999999 0.5344097609275721 0.8443214510419593 RIF\n"
          ],
          "name": "stdout"
        },
        {
          "output_type": "stream",
          "text": [
            "\n",
            " 44%|████▍     | 4/9 [02:06<02:39, 31.86s/it]\u001b[A"
          ],
          "name": "stderr"
        },
        {
          "output_type": "stream",
          "text": [
            "RF 0.6015873015873016 0.6027878787878788 0.7789473684210526 0.6035695415695415 0.6787926616282433 PZA\n"
          ],
          "name": "stdout"
        },
        {
          "output_type": "stream",
          "text": [
            "\n",
            " 56%|█████▌    | 5/9 [02:37<02:06, 31.71s/it]\u001b[A"
          ],
          "name": "stderr"
        },
        {
          "output_type": "stream",
          "text": [
            "RF 0.7537037037037038 0.7928494695855012 0.9291890010442047 0.578805687173703 0.8546310323851326 SM\n"
          ],
          "name": "stdout"
        },
        {
          "output_type": "stream",
          "text": [
            "\n",
            " 67%|██████▋   | 6/9 [02:58<01:25, 28.46s/it]\u001b[A"
          ],
          "name": "stderr"
        },
        {
          "output_type": "stream",
          "text": [
            "RF 0.5015873015873016 0.45139043410791546 0.5955367231638418 0.5010950873162133 0.4919519509188384 KAN\n"
          ],
          "name": "stdout"
        },
        {
          "output_type": "stream",
          "text": [
            "\n",
            " 78%|███████▊  | 7/9 [03:20<00:53, 26.64s/it]\u001b[A"
          ],
          "name": "stderr"
        },
        {
          "output_type": "stream",
          "text": [
            "RF 0.6277390823659481 0.34385730211817167 0.19756410256410256 0.5249995262742736 0.2371630096774176 AM\n"
          ],
          "name": "stdout"
        },
        {
          "output_type": "stream",
          "text": [
            "\n",
            " 89%|████████▉ | 8/9 [03:47<00:26, 26.54s/it]\u001b[A"
          ],
          "name": "stderr"
        },
        {
          "output_type": "stream",
          "text": [
            "RF 0.6524746842644215 0.3749428583750216 0.21403508771929824 0.5429863976264118 0.26981565034114496 CAP\n"
          ],
          "name": "stdout"
        },
        {
          "output_type": "stream",
          "text": [
            "\n",
            "100%|██████████| 9/9 [04:12<00:00, 28.07s/it]"
          ],
          "name": "stderr"
        },
        {
          "output_type": "stream",
          "text": [
            "RF 0.5371954022988507 0.5311995159015528 0.5807993730407524 0.5405667570436711 0.5443362671721856 OFX\n"
          ],
          "name": "stdout"
        },
        {
          "output_type": "stream",
          "text": [
            "\n"
          ],
          "name": "stderr"
        }
      ]
    },
    {
      "cell_type": "code",
      "metadata": {
        "id": "zdJCr5mMiXtO",
        "colab_type": "code",
        "colab": {}
      },
      "source": [
        "df_results.to_excel('results.xlsx')"
      ],
      "execution_count": 0,
      "outputs": []
    },
    {
      "cell_type": "code",
      "metadata": {
        "colab_type": "code",
        "id": "A0cavaPJ5IAV",
        "outputId": "f511aa40-9d6b-4d25-bb40-3f7b3672de6a",
        "colab": {
          "base_uri": "https://localhost:8080/",
          "height": 1000
        }
      },
      "source": [
        "from sklearn.decomposition import PCA \n",
        "\n",
        "df_results_PCA = pd.DataFrame(columns=['classifier', 'PCA', 'Accuracy', 'Recall', 'Precision', 'AUC', 'F1-Score', 'drug'])\n",
        "\n",
        "for clf, name in zip([LogisticRegression(penalty='l1', solver='liblinear'), LogisticRegression(penalty='l2'), LinearSVC(), SVC(),\\\n",
        "                      AdaBoostClassifier(n_estimators=10), GradientBoostingClassifier(max_features='sqrt'), RandomForestClassifier()],\n",
        "            ['LR-L1', 'LR-L2', 'LinearSVC', 'SVC', 'AdaBoost', 'GB', 'RF']):\n",
        "    for drug in tqdm(y.index.values):\n",
        "        for n in [50, 100, 150]:\n",
        "            y_new = y.loc[drug[0]].dropna(1)\n",
        "            X_new = PCA(n_components=n).fit_transform(X.loc[y_new.columns].to_numpy())\n",
        "            y_new = y_new.to_numpy().astype('int')[0]\n",
        "            results = cross_validate(clf, X_new, y_new, scoring=['accuracy', 'roc_auc', 'f1', 'recall', 'precision'])\n",
        "            acc = mean(results['test_accuracy'])\n",
        "            r = mean(results['test_recall'])\n",
        "            p = mean(results['test_precision'])\n",
        "            f1 = mean(results['test_f1'])\n",
        "            auc = mean(results['test_roc_auc'])\n",
        "            print(acc, r, p, f1, auc)\n",
        "            df_results_PCA = df_results_PCA.append(pd.Series([name, n, acc, r, p, auc, f1, drug[0]], index=df_results_PCA.columns), ignore_index=True)"
      ],
      "execution_count": 0,
      "outputs": [
        {
          "output_type": "stream",
          "text": [
            "\n",
            "\n",
            "\n",
            "\n",
            "\n",
            "  0%|          | 0/9 [00:00<?, ?it/s]\u001b[A\u001b[A\u001b[A\u001b[A\u001b[A"
          ],
          "name": "stderr"
        },
        {
          "output_type": "stream",
          "text": [
            "0.7862084678184925 0.9738714659063911 0.8017971791202114 0.8794440278519576 0.5027613016965027\n",
            "0.7565217391304347 0.9204621050130672 0.8039905109088236 0.8581623807055944 0.5064389024898337\n"
          ],
          "name": "stdout"
        },
        {
          "output_type": "stream",
          "text": [
            "\n",
            "\n",
            "\n",
            "\n",
            "\n",
            " 11%|█         | 1/9 [03:33<28:27, 213.40s/it]\u001b[A\u001b[A\u001b[A\u001b[A\u001b[A"
          ],
          "name": "stderr"
        },
        {
          "output_type": "stream",
          "text": [
            "0.716362255553446 0.8551259206462343 0.8034980495684318 0.8273454948680842 0.5168094938038227\n",
            "0.5756756756756757 0.8746268656716418 0.6023250829419419 0.7129012122889674 0.5081411126187245\n",
            "0.5513513513513514 0.7716417910447761 0.5999357270211012 0.6746504840534607 0.5362788331071914\n"
          ],
          "name": "stdout"
        },
        {
          "output_type": "stream",
          "text": [
            "\n",
            "\n",
            "\n",
            "\n",
            "\n",
            " 22%|██▏       | 2/9 [06:49<24:18, 208.29s/it]\u001b[A\u001b[A\u001b[A\u001b[A\u001b[A"
          ],
          "name": "stderr"
        },
        {
          "output_type": "stream",
          "text": [
            "0.5513513513513514 0.7268656716417911 0.6075343739896559 0.6610796753633795 0.5546981004070556\n",
            "0.7748661477121701 0.9688888888888889 0.791296526886366 0.8710738368555728 0.5002467120181406\n",
            "0.7382039111448643 0.9066666666666666 0.7907170646120384 0.8442714158072607 0.5079541950113379\n"
          ],
          "name": "stdout"
        },
        {
          "output_type": "stream",
          "text": [
            "\n",
            "\n",
            "\n",
            "\n",
            "\n",
            " 33%|███▎      | 3/9 [10:20<20:54, 209.02s/it]\u001b[A\u001b[A\u001b[A\u001b[A\u001b[A"
          ],
          "name": "stderr"
        },
        {
          "output_type": "stream",
          "text": [
            "0.7128612113157395 0.8644444444444445 0.7894704982028926 0.8244875786407978 0.5182308390022676\n",
            "0.5622222222222222 0.5894736842105263 0.6033487565066512 0.5916363022941971 0.5855263157894737\n",
            "0.5396825396825397 0.5578947368421052 0.5739047619047619 0.5588206388206388 0.5602941176470588\n"
          ],
          "name": "stdout"
        },
        {
          "output_type": "stream",
          "text": [
            "\n",
            "\n",
            "\n",
            "\n",
            "\n",
            " 44%|████▍     | 4/9 [11:18<13:38, 163.79s/it]\u001b[A\u001b[A\u001b[A\u001b[A\u001b[A"
          ],
          "name": "stderr"
        },
        {
          "output_type": "stream",
          "text": [
            "0.6136507936507937 0.6 0.6560577915376676 0.6239009287925696 0.6119969040247678\n",
            "0.7657407407407407 0.9669892098851375 0.784696395338099 0.866298227850909 0.5325266838886915\n",
            "0.7351851851851852 0.9139644970414201 0.7840442674281155 0.8436243468171043 0.5372681651524143\n"
          ],
          "name": "stdout"
        },
        {
          "output_type": "stream",
          "text": [
            "\n",
            "\n",
            "\n",
            "\n",
            "\n",
            " 56%|█████▌    | 5/9 [14:41<11:42, 175.60s/it]\u001b[A\u001b[A\u001b[A\u001b[A\u001b[A"
          ],
          "name": "stderr"
        },
        {
          "output_type": "stream",
          "text": [
            "0.6990740740740741 0.8573268360598677 0.7805548919902315 0.8166846278275426 0.5325799824388151\n",
            "0.5460317460317461 0.32728813559322034 0.5577270038450163 0.4006527335166018 0.553921935009084\n",
            "0.5523809523809524 0.3940677966101695 0.5575278774569276 0.4489393396981041 0.5394981819203929\n"
          ],
          "name": "stdout"
        },
        {
          "output_type": "stream",
          "text": [
            "\n",
            "\n",
            "\n",
            "\n",
            "\n",
            " 67%|██████▋   | 6/9 [17:24<08:34, 171.57s/it]\u001b[A\u001b[A\u001b[A\u001b[A\u001b[A"
          ],
          "name": "stderr"
        },
        {
          "output_type": "stream",
          "text": [
            "0.5380952380952381 0.4310169491525424 0.5208354011579818 0.4666879904679732 0.5143733821902302\n",
            "0.6958651188501935 0.21794871794871795 0.4593235294117647 0.28850863422291995 0.5999209964012595\n",
            "0.6379436152570481 0.23846153846153847 0.34321354461422376 0.27764184472480635 0.5340011246063878\n"
          ],
          "name": "stdout"
        },
        {
          "output_type": "stream",
          "text": [
            "\n",
            "\n",
            "\n",
            "\n",
            "\n",
            " 78%|███████▊  | 7/9 [19:21<05:10, 155.19s/it]\u001b[A\u001b[A\u001b[A\u001b[A\u001b[A"
          ],
          "name": "stderr"
        },
        {
          "output_type": "stream",
          "text": [
            "0.5979104477611941 0.32974358974358975 0.3194104308390023 0.3227138103839906 0.5408069050832208\n",
            "0.6545568324041415 0.14385964912280702 0.3385038765843719 0.19936642588175033 0.5555456315480422\n",
            "0.639674593241552 0.2350877192982456 0.36299843014128724 0.2772097724520619 0.5932576155597449\n"
          ],
          "name": "stdout"
        },
        {
          "output_type": "stream",
          "text": [
            "\n",
            "\n",
            "\n",
            "\n",
            "\n",
            " 89%|████████▉ | 8/9 [21:50<02:33, 153.33s/it]\u001b[A\u001b[A\u001b[A\u001b[A\u001b[A"
          ],
          "name": "stderr"
        },
        {
          "output_type": "stream",
          "text": [
            "0.6599158038457162 0.2982456140350877 0.4194799248370677 0.34349769247700596 0.5752326647505434\n",
            "0.5578193760262726 0.388871473354232 0.5884674737383985 0.4592091846325039 0.5486570520904647\n",
            "0.5566765188834154 0.4186520376175549 0.5803921497272002 0.4837505254229845 0.5455561861180173\n"
          ],
          "name": "stdout"
        },
        {
          "output_type": "stream",
          "text": [
            "\n",
            "\n",
            "\n",
            "\n",
            "\n",
            "100%|██████████| 9/9 [24:35<00:00, 163.96s/it]\n",
            "\n",
            "\n",
            "\n",
            "\n",
            "\n",
            "  0%|          | 0/9 [00:00<?, ?it/s]\u001b[A\u001b[A\u001b[A\u001b[A\u001b[A"
          ],
          "name": "stderr"
        },
        {
          "output_type": "stream",
          "text": [
            "0.5486568144499179 0.40726227795193315 0.5712452080468338 0.4722941526530398 0.537831795961998\n",
            "0.7530510727169166 0.9128593490140176 0.8050145069987589 0.8555225906098881 0.5003176939684114\n",
            "0.7373305486994494 0.89547992397244 0.800459149471026 0.8447049084473603 0.5138928056166737\n"
          ],
          "name": "stdout"
        },
        {
          "output_type": "stream",
          "text": [
            "\n",
            "\n",
            "\n",
            "\n",
            "\n",
            " 11%|█         | 1/9 [02:51<22:51, 171.40s/it]\u001b[A\u001b[A\u001b[A\u001b[A\u001b[A"
          ],
          "name": "stderr"
        },
        {
          "output_type": "stream",
          "text": [
            "0.7329409531042339 0.8769303872653837 0.806579416416077 0.8389785864926238 0.5471491386642151\n",
            "0.5396396396396397 0.7686567164179104 0.5904481945838276 0.6670496046799504 0.5235074626865672\n",
            "0.536036036036036 0.7149253731343284 0.5965816139479698 0.6493812027443648 0.5334633649932157\n"
          ],
          "name": "stdout"
        },
        {
          "output_type": "stream",
          "text": [
            "\n",
            "\n",
            "\n",
            "\n",
            "\n",
            " 22%|██▏       | 2/9 [05:39<19:52, 170.34s/it]\u001b[A\u001b[A\u001b[A\u001b[A\u001b[A"
          ],
          "name": "stderr"
        },
        {
          "output_type": "stream",
          "text": [
            "0.5441441441441441 0.7074626865671642 0.6033680969523442 0.6500339831449031 0.5507293080054274\n",
            "0.7382266945130055 0.9055555555555556 0.791359241345275 0.8445818607860519 0.5060911564625851\n",
            "0.7382228972849819 0.8988888888888888 0.7948696890870804 0.8434206940889928 0.5351891156462586\n"
          ],
          "name": "stdout"
        },
        {
          "output_type": "stream",
          "text": [
            "\n",
            "\n",
            "\n",
            "\n",
            "\n",
            " 33%|███▎      | 3/9 [08:30<17:03, 170.52s/it]\u001b[A\u001b[A\u001b[A\u001b[A\u001b[A"
          ],
          "name": "stderr"
        },
        {
          "output_type": "stream",
          "text": [
            "0.7137535599012721 0.86 0.7929069863376336 0.8243584367171953 0.5360145124716553\n",
            "0.5793650793650793 0.6105263157894737 0.6170605722779636 0.6080489555489555 0.620859133126935\n",
            "0.5569841269841269 0.5894736842105263 0.586437908496732 0.5854808296668761 0.5636996904024768\n"
          ],
          "name": "stdout"
        },
        {
          "output_type": "stream",
          "text": [
            "\n",
            "\n",
            "\n",
            "\n",
            "\n",
            " 44%|████▍     | 4/9 [09:21<11:13, 134.74s/it]\u001b[A\u001b[A\u001b[A\u001b[A\u001b[A"
          ],
          "name": "stderr"
        },
        {
          "output_type": "stream",
          "text": [
            "0.5457142857142857 0.5894736842105263 0.5754385964912281 0.5792759811767659 0.585061919504644\n",
            "0.7425925925925926 0.9221719457013575 0.7867658089476672 0.8489979182517208 0.5527292782687905\n",
            "0.7296296296296296 0.9021719457013575 0.7850476795472628 0.8392820694318215 0.5444979896725808\n"
          ],
          "name": "stdout"
        },
        {
          "output_type": "stream",
          "text": [
            "\n",
            "\n",
            "\n",
            "\n",
            "\n",
            " 56%|█████▌    | 5/9 [12:03<09:32, 143.01s/it]\u001b[A\u001b[A\u001b[A\u001b[A\u001b[A"
          ],
          "name": "stderr"
        },
        {
          "output_type": "stream",
          "text": [
            "0.6981481481481482 0.8585938043856596 0.7783567589817589 0.8153543812710661 0.5171610496526884\n",
            "0.5460317460317461 0.32728813559322034 0.5565064017991509 0.4002964078456496 0.5461450515782669\n",
            "0.5492063492063493 0.37401129943502825 0.5522534678606643 0.4347620259028731 0.5288684786136089\n"
          ],
          "name": "stdout"
        },
        {
          "output_type": "stream",
          "text": [
            "\n",
            "\n",
            "\n",
            "\n",
            "\n",
            " 67%|██████▋   | 6/9 [13:44<06:30, 130.29s/it]\u001b[A\u001b[A\u001b[A\u001b[A\u001b[A"
          ],
          "name": "stderr"
        },
        {
          "output_type": "stream",
          "text": [
            "0.5571428571428572 0.3810169491525424 0.5673935367927858 0.4511153940020386 0.5231653749741279\n",
            "0.6454394693200664 0.3647435897435897 0.40085858585858586 0.37683272465104184 0.5902596153846154\n",
            "0.6127584300718629 0.31384615384615383 0.3258423137146541 0.3173948780680626 0.5322251461988304\n"
          ],
          "name": "stdout"
        },
        {
          "output_type": "stream",
          "text": [
            "\n",
            "\n",
            "\n",
            "\n",
            "\n",
            " 78%|███████▊  | 7/9 [15:28<04:04, 122.35s/it]\u001b[A\u001b[A\u001b[A\u001b[A\u001b[A"
          ],
          "name": "stderr"
        },
        {
          "output_type": "stream",
          "text": [
            "0.6142399115533443 0.4156410256410257 0.36689325525036526 0.38827546533828367 0.5759354475933424\n",
            "0.6258220502901354 0.2807017543859649 0.3515071757804316 0.30919181173436494 0.5506207827260459\n",
            "0.6460405051769257 0.28421052631578947 0.4026754338098876 0.3251128828118635 0.58081826704165\n"
          ],
          "name": "stdout"
        },
        {
          "output_type": "stream",
          "text": [
            "\n",
            "\n",
            "\n",
            "\n",
            "\n",
            " 89%|████████▉ | 8/9 [17:36<02:04, 124.25s/it]\u001b[A\u001b[A\u001b[A\u001b[A\u001b[A"
          ],
          "name": "stderr"
        },
        {
          "output_type": "stream",
          "text": [
            "0.6503413357606098 0.3684210526315789 0.4144457394457394 0.3861195681474786 0.5933690803638574\n",
            "0.5521182266009852 0.388871473354232 0.5824878054467731 0.45711893889976085 0.54693021174888\n",
            "0.5589556650246306 0.38892371995820274 0.591360817831406 0.4659338265434086 0.5519254675170252\n"
          ],
          "name": "stdout"
        },
        {
          "output_type": "stream",
          "text": [
            "\n",
            "\n",
            "\n",
            "\n",
            "\n",
            "100%|██████████| 9/9 [19:41<00:00, 131.30s/it]\n",
            "\n",
            "\n",
            "\n",
            "\n",
            "\n",
            "  0%|          | 0/9 [00:00<?, ?it/s]\u001b[A\u001b[A\u001b[A\u001b[A\u001b[A"
          ],
          "name": "stderr"
        },
        {
          "output_type": "stream",
          "text": [
            "0.5497865353037766 0.38672936259143154 0.575412299564842 0.4601052229109423 0.5507478170528111\n",
            "0.5557471046136321 0.5957769066286529 0.7984100306198124 0.6670130477832245 0.4831925549460955\n",
            "0.656145813556104 0.7603706343549537 0.8005281887603075 0.7789191481649534 0.5024232407436101\n"
          ],
          "name": "stdout"
        },
        {
          "output_type": "stream",
          "text": [
            "\n",
            "\n",
            "\n",
            "\n",
            "\n",
            " 11%|█         | 1/9 [02:53<23:07, 173.41s/it]\u001b[A\u001b[A\u001b[A\u001b[A\u001b[A"
          ],
          "name": "stderr"
        },
        {
          "output_type": "stream",
          "text": [
            "0.5952306816024302 0.658048229983369 0.8015365150773324 0.7132711507433858 0.4967641114106762\n",
            "0.509009009009009 0.6253731343283582 0.5814073635937397 0.5930887322398776 0.5005936227951153\n",
            "0.5054054054054054 0.5119402985074627 0.6061911050106543 0.5477044953800775 0.517689959294437\n"
          ],
          "name": "stdout"
        },
        {
          "output_type": "stream",
          "text": [
            "\n",
            "\n",
            "\n",
            "\n",
            "\n",
            " 22%|██▏       | 2/9 [05:44<20:08, 172.66s/it]\u001b[A\u001b[A\u001b[A\u001b[A\u001b[A"
          ],
          "name": "stderr"
        },
        {
          "output_type": "stream",
          "text": [
            "0.517117117117117 0.6328358208955224 0.5934920197635497 0.6077831532043787 0.5194877883310719\n",
            "0.493039681032846 0.49444444444444446 0.7793097787868757 0.6009096177355662 0.4765750566893424\n",
            "0.5801936586292007 0.6533333333333333 0.7731418310586179 0.7015939148990291 0.5041419501133787\n"
          ],
          "name": "stdout"
        },
        {
          "output_type": "stream",
          "text": [
            "\n",
            "\n",
            "\n",
            "\n",
            "\n",
            " 33%|███▎      | 3/9 [08:37<17:17, 172.88s/it]\u001b[A\u001b[A\u001b[A\u001b[A\u001b[A"
          ],
          "name": "stderr"
        },
        {
          "output_type": "stream",
          "text": [
            "0.6448604518701349 0.7411111111111112 0.7931158955091052 0.7655751463206889 0.5452163265306122\n",
            "0.5626984126984127 0.7473684210526316 0.5715747126436781 0.6464467419515633 0.5851006191950464\n",
            "0.5284126984126984 0.5473684210526315 0.5667767904610009 0.5512506589159867 0.5373839009287926\n"
          ],
          "name": "stdout"
        },
        {
          "output_type": "stream",
          "text": [
            "\n",
            "\n",
            "\n",
            "\n",
            "\n",
            " 44%|████▍     | 4/9 [09:29<11:22, 136.48s/it]\u001b[A\u001b[A\u001b[A\u001b[A\u001b[A"
          ],
          "name": "stderr"
        },
        {
          "output_type": "stream",
          "text": [
            "0.5057142857142857 0.4842105263157895 0.5493589743589744 0.5112879767291532 0.5053018575851393\n",
            "0.6046296296296296 0.6958788722589627 0.7764728381784625 0.7263411156476409 0.5053801059531258\n",
            "0.625 0.7227636616776888 0.7863771921781935 0.749242387939831 0.5288564638780209\n"
          ],
          "name": "stdout"
        },
        {
          "output_type": "stream",
          "text": [
            "\n",
            "\n",
            "\n",
            "\n",
            "\n",
            " 56%|█████▌    | 5/9 [12:14<09:40, 145.05s/it]\u001b[A\u001b[A\u001b[A\u001b[A\u001b[A"
          ],
          "name": "stderr"
        },
        {
          "output_type": "stream",
          "text": [
            "0.5842592592592593 0.6544587539157675 0.7815874994126853 0.7095030840790227 0.5278487693486166\n",
            "0.5047619047619047 0.5857062146892655 0.4687969948834966 0.5088595477518517 0.5207398229704073\n",
            "0.5253968253968254 0.43740112994350283 0.4911507821528332 0.45117775357937884 0.5412901593726284\n"
          ],
          "name": "stdout"
        },
        {
          "output_type": "stream",
          "text": [
            "\n",
            "\n",
            "\n",
            "\n",
            "\n",
            " 67%|██████▋   | 6/9 [13:55<06:35, 131.88s/it]\u001b[A\u001b[A\u001b[A\u001b[A\u001b[A"
          ],
          "name": "stderr"
        },
        {
          "output_type": "stream",
          "text": [
            "0.48412698412698413 0.5353107344632768 0.46573261606988975 0.49411458907175154 0.4977958563627676\n",
            "0.6141514648977335 0.47807692307692307 0.3751620618931556 0.4099355877616747 0.60706618308592\n",
            "0.5696849087893864 0.46499999999999997 0.33956426848412913 0.37986621519815217 0.5789631129104813\n"
          ],
          "name": "stdout"
        },
        {
          "output_type": "stream",
          "text": [
            "\n",
            "\n",
            "\n",
            "\n",
            "\n",
            " 78%|███████▊  | 7/9 [15:40<04:07, 123.93s/it]\u001b[A\u001b[A\u001b[A\u001b[A\u001b[A"
          ],
          "name": "stderr"
        },
        {
          "output_type": "stream",
          "text": [
            "0.5653178551686014 0.4702564102564103 0.3375062670725695 0.38115562741701164 0.5274477620332884\n",
            "0.5800659915803846 0.3894736842105263 0.3503412315006518 0.3518641339363306 0.5416687785229368\n",
            "0.5810558652861532 0.456140350877193 0.35527879864939904 0.38874846661333523 0.5668379845679966\n"
          ],
          "name": "stdout"
        },
        {
          "output_type": "stream",
          "text": [
            "\n",
            "\n",
            "\n",
            "\n",
            "\n",
            " 89%|████████▉ | 8/9 [17:51<02:06, 126.03s/it]\u001b[A\u001b[A\u001b[A\u001b[A\u001b[A"
          ],
          "name": "stderr"
        },
        {
          "output_type": "stream",
          "text": [
            "0.6088178404824213 0.4666666666666666 0.39348270676691727 0.41163185521297296 0.5906834172924972\n",
            "0.5131297208538588 0.5355538140020899 0.5240318729820196 0.509254100068034 0.5118850514659076\n",
            "0.5497668308702791 0.3908568443051202 0.5788324578647159 0.4443959793843978 0.5653861744676251\n"
          ],
          "name": "stdout"
        },
        {
          "output_type": "stream",
          "text": [
            "\n",
            "\n",
            "\n",
            "\n",
            "\n",
            "100%|██████████| 9/9 [20:01<00:00, 133.50s/it]\n",
            "\n",
            "\n",
            "\n",
            "\n",
            "\n",
            "  0%|          | 0/9 [00:00<?, ?it/s]\u001b[A\u001b[A\u001b[A\u001b[A\u001b[A"
          ],
          "name": "stderr"
        },
        {
          "output_type": "stream",
          "text": [
            "0.5302988505747126 0.5582288401253919 0.5391445778701822 0.5419199294486937 0.5465831021270974\n",
            "0.8001746724890829 0.9978260869565218 0.8014027561642116 0.8888870566882312 0.5139227104789255\n",
            "0.7993013100436681 0.9978260869565218 0.800701767885655 0.8884547698198306 0.5135583084556558\n"
          ],
          "name": "stdout"
        },
        {
          "output_type": "stream",
          "text": [
            "\n",
            "\n",
            "\n",
            "\n",
            "\n",
            " 11%|█         | 1/9 [02:51<22:55, 171.98s/it]\u001b[A\u001b[A\u001b[A\u001b[A\u001b[A"
          ],
          "name": "stderr"
        },
        {
          "output_type": "stream",
          "text": [
            "0.7993013100436681 0.9978260869565218 0.800701767885655 0.8884547698198306 0.5046730522241849\n",
            "0.5873873873873874 0.917910447761194 0.6041553598485909 0.7281841607503772 0.5128392130257802\n",
            "0.5882882882882883 0.917910447761194 0.6046504331782225 0.7285037242148504 0.517910447761194\n"
          ],
          "name": "stdout"
        },
        {
          "output_type": "stream",
          "text": [
            "\n",
            "\n",
            "\n",
            "\n",
            "\n",
            " 22%|██▏       | 2/9 [05:42<20:00, 171.53s/it]\u001b[A\u001b[A\u001b[A\u001b[A\u001b[A"
          ],
          "name": "stderr"
        },
        {
          "output_type": "stream",
          "text": [
            "0.5864864864864865 0.917910447761194 0.6034878861659142 0.7276039468251558 0.5151628222523745\n",
            "0.7853389026011012 0.9955555555555555 0.7873411331017975 0.879285908649567 0.5286299319727892\n",
            "0.7844655401556864 0.9955555555555555 0.7866516364343648 0.8788544402186739 0.5115859410430839\n"
          ],
          "name": "stdout"
        },
        {
          "output_type": "stream",
          "text": [
            "\n",
            "\n",
            "\n",
            "\n",
            "\n",
            " 33%|███▎      | 3/9 [08:35<17:12, 172.01s/it]\u001b[A\u001b[A\u001b[A\u001b[A\u001b[A"
          ],
          "name": "stderr"
        },
        {
          "output_type": "stream",
          "text": [
            "0.7844655401556864 0.9955555555555555 0.7866516364343648 0.8788544402186739 0.5026993197278912\n",
            "0.5446031746031745 0.7999999999999999 0.5524943616221507 0.6506322544357519 0.565673374613003\n",
            "0.539047619047619 0.7999999999999999 0.5476510567788458 0.6473472302811626 0.5580108359133127\n"
          ],
          "name": "stdout"
        },
        {
          "output_type": "stream",
          "text": [
            "\n",
            "\n",
            "\n",
            "\n",
            "\n",
            " 44%|████▍     | 4/9 [09:27<11:19, 136.00s/it]\u001b[A\u001b[A\u001b[A\u001b[A\u001b[A"
          ],
          "name": "stderr"
        },
        {
          "output_type": "stream",
          "text": [
            "0.539047619047619 0.7999999999999999 0.5476510567788458 0.6473472302811626 0.5561532507739938\n",
            "0.7851851851851852 1.0 0.7851851851851852 0.8796662404952561 0.4934148631892258\n",
            "0.7851851851851852 1.0 0.7851851851851852 0.8796662404952561 0.48402317438861864\n"
          ],
          "name": "stdout"
        },
        {
          "output_type": "stream",
          "text": [
            "\n",
            "\n",
            "\n",
            "\n",
            "\n",
            " 56%|█████▌    | 5/9 [12:11<09:37, 144.40s/it]\u001b[A\u001b[A\u001b[A\u001b[A\u001b[A"
          ],
          "name": "stderr"
        },
        {
          "output_type": "stream",
          "text": [
            "0.7851851851851852 1.0 0.7851851851851852 0.8796662404952561 0.4587758962273719\n",
            "0.5460317460317461 0.3075141242937853 0.5743994109271615 0.38943176039931715 0.5970581670486805\n",
            "0.553968253968254 0.334180790960452 0.5740944746924783 0.41086082342411456 0.5879220295543341\n"
          ],
          "name": "stdout"
        },
        {
          "output_type": "stream",
          "text": [
            "\n",
            "\n",
            "\n",
            "\n",
            "\n",
            " 67%|██████▋   | 6/9 [13:51<06:33, 131.17s/it]\u001b[A\u001b[A\u001b[A\u001b[A\u001b[A"
          ],
          "name": "stderr"
        },
        {
          "output_type": "stream",
          "text": [
            "0.5555555555555556 0.3341242937853107 0.5761009140498304 0.4107746759831577 0.5807896380961142\n",
            "0.6958651188501935 0.010128205128205128 0.09 0.01819121447028424 0.5328658906882591\n",
            "0.703272526257601 0.020256410256410257 0.38 0.03746172526660332 0.5653790485829959\n"
          ],
          "name": "stdout"
        },
        {
          "output_type": "stream",
          "text": [
            "\n",
            "\n",
            "\n",
            "\n",
            "\n",
            " 78%|███████▊  | 7/9 [15:36<04:06, 123.07s/it]\u001b[A\u001b[A\u001b[A\u001b[A\u001b[A"
          ],
          "name": "stderr"
        },
        {
          "output_type": "stream",
          "text": [
            "0.6988170259812051 0.01512820512820513 0.25 0.028349944629014395 0.5765628092667566\n",
            "0.6641654340653089 0.05614035087719298 0.24454545454545454 0.08792693083423994 0.5502818555490311\n",
            "0.6673626123563545 0.05614035087719298 0.2545378151260504 0.0892535505035505 0.5758140948377991\n"
          ],
          "name": "stdout"
        },
        {
          "output_type": "stream",
          "text": [
            "\n",
            "\n",
            "\n",
            "\n",
            "\n",
            " 89%|████████▉ | 8/9 [17:49<02:06, 126.27s/it]\u001b[A\u001b[A\u001b[A\u001b[A\u001b[A"
          ],
          "name": "stderr"
        },
        {
          "output_type": "stream",
          "text": [
            "0.667368301285698 0.05614035087719298 0.25055285272003536 0.08947135901083268 0.5767134365567471\n",
            "0.5612742200328407 0.37288401253918496 0.5989332317645686 0.45066608379932366 0.5835881105946504\n",
            "0.5692742200328407 0.388871473354232 0.6083516242889988 0.46494661986465263 0.5924748375550992\n"
          ],
          "name": "stdout"
        },
        {
          "output_type": "stream",
          "text": [
            "\n",
            "\n",
            "\n",
            "\n",
            "\n",
            "100%|██████████| 9/9 [19:58<00:00, 133.22s/it]\n",
            "\n",
            "\n",
            "\n",
            "\n",
            "\n",
            "  0%|          | 0/9 [00:00<?, ?it/s]\u001b[A\u001b[A\u001b[A\u001b[A\u001b[A"
          ],
          "name": "stderr"
        },
        {
          "output_type": "stream",
          "text": [
            "0.5692742200328407 0.4002873563218391 0.6026720180750975 0.4707097026672332 0.588400503248898\n",
            "0.7905752800455668 0.9814682822523164 0.8016001270043769 0.8824466087656425 0.5068747998595143\n",
            "0.7958116574900322 0.9825671180803041 0.8053839184919404 0.8851753342606203 0.542563033492757\n"
          ],
          "name": "stdout"
        },
        {
          "output_type": "stream",
          "text": [
            "\n",
            "\n",
            "\n",
            "\n",
            "\n",
            " 11%|█         | 1/9 [02:51<22:55, 171.88s/it]\u001b[A\u001b[A\u001b[A\u001b[A\u001b[A"
          ],
          "name": "stderr"
        },
        {
          "output_type": "stream",
          "text": [
            "0.7844465540155686 0.9694820622475647 0.8025320634366776 0.878122448093548 0.5409995231061115\n",
            "0.5387387387387388 0.6507462686567165 0.6179869876003878 0.6234464529558829 0.5124236770691994\n",
            "0.5693693693693693 0.7686567164179104 0.6145269038366685 0.6827374116183156 0.5342435549525102\n"
          ],
          "name": "stdout"
        },
        {
          "output_type": "stream",
          "text": [
            "\n",
            "\n",
            "\n",
            "\n",
            "\n",
            " 22%|██▏       | 2/9 [05:41<19:57, 171.11s/it]\u001b[A\u001b[A\u001b[A\u001b[A\u001b[A"
          ],
          "name": "stderr"
        },
        {
          "output_type": "stream",
          "text": [
            "0.590990990990991 0.7522388059701492 0.6368553517492094 0.687678456344612 0.5265518995929444\n",
            "0.7757319157015379 0.9766666666666667 0.7883526227660038 0.8724306798025037 0.5092702947845805\n",
            "0.769625973039681 0.9722222222222222 0.7854285976977491 0.8688713724823498 0.4986804988662132\n"
          ],
          "name": "stdout"
        },
        {
          "output_type": "stream",
          "text": [
            "\n",
            "\n",
            "\n",
            "\n",
            "\n",
            " 33%|███▎      | 3/9 [08:33<17:08, 171.46s/it]\u001b[A\u001b[A\u001b[A\u001b[A\u001b[A"
          ],
          "name": "stderr"
        },
        {
          "output_type": "stream",
          "text": [
            "0.7617846971710651 0.9577777777777778 0.7857464110342246 0.863167407247215 0.5233408163265306\n",
            "0.5568253968253968 0.6105263157894737 0.5814191871080416 0.5913450292397661 0.5584752321981424\n",
            "0.5165079365079365 0.5894736842105264 0.5514747474747475 0.5651630892663891 0.5445433436532507\n"
          ],
          "name": "stdout"
        },
        {
          "output_type": "stream",
          "text": [
            "\n",
            "\n",
            "\n",
            "\n",
            "\n",
            " 44%|████▍     | 4/9 [09:24<11:17, 135.46s/it]\u001b[A\u001b[A\u001b[A\u001b[A\u001b[A"
          ],
          "name": "stderr"
        },
        {
          "output_type": "stream",
          "text": [
            "0.5619047619047619 0.6 0.605813027552158 0.5965830115830116 0.565267027863777\n",
            "0.7685185185185185 0.9764148973198747 0.7825629026710438 0.8687455321400245 0.5441788842046899\n",
            "0.7574074074074074 0.9599234249912983 0.7811454821668973 0.8613199965687742 0.553552520789912\n"
          ],
          "name": "stdout"
        },
        {
          "output_type": "stream",
          "text": [
            "\n",
            "\n",
            "\n",
            "\n",
            "\n",
            " 56%|█████▌    | 5/9 [12:09<09:36, 144.09s/it]\u001b[A\u001b[A\u001b[A\u001b[A\u001b[A"
          ],
          "name": "stderr"
        },
        {
          "output_type": "stream",
          "text": [
            "0.7805555555555556 0.9894117647058823 0.7863511414481638 0.8762351350536205 0.5270905602030838\n",
            "0.5158730158730158 0.4275141242937853 0.5036803843315378 0.45099874486729224 0.5357064574405834\n",
            "0.4936507936507936 0.3807909604519774 0.47533273915626856 0.4084545703687746 0.4990261967001153\n"
          ],
          "name": "stdout"
        },
        {
          "output_type": "stream",
          "text": [
            "\n",
            "\n",
            "\n",
            "\n",
            "\n",
            " 67%|██████▋   | 6/9 [13:49<06:32, 130.92s/it]\u001b[A\u001b[A\u001b[A\u001b[A\u001b[A"
          ],
          "name": "stderr"
        },
        {
          "output_type": "stream",
          "text": [
            "0.5079365079365079 0.4546892655367232 0.4844612032847327 0.4667427719422626 0.5094756124360222\n",
            "0.6588501934770592 0.13166666666666665 0.3216013071895425 0.17571149968526387 0.4946660481331534\n",
            "0.6676616915422886 0.15243589743589744 0.37154745838956366 0.2103645031934315 0.48418814664867293\n"
          ],
          "name": "stdout"
        },
        {
          "output_type": "stream",
          "text": [
            "\n",
            "\n",
            "\n",
            "\n",
            "\n",
            " 78%|███████▊  | 7/9 [15:33<04:05, 122.84s/it]\u001b[A\u001b[A\u001b[A\u001b[A\u001b[A"
          ],
          "name": "stderr"
        },
        {
          "output_type": "stream",
          "text": [
            "0.6439690436705362 0.14717948717948717 0.30093288777499305 0.19624962961868306 0.5189479869545659\n",
            "0.6449766753896916 0.15087719298245614 0.3359129649267507 0.20526592455163883 0.573047666141278\n",
            "0.6289907839344635 0.1087719298245614 0.24842542947806107 0.1453729625482145 0.5813338690237043\n"
          ],
          "name": "stdout"
        },
        {
          "output_type": "stream",
          "text": [
            "\n",
            "\n",
            "\n",
            "\n",
            "\n",
            " 89%|████████▉ | 8/9 [17:47<02:06, 126.09s/it]\u001b[A\u001b[A\u001b[A\u001b[A\u001b[A"
          ],
          "name": "stderr"
        },
        {
          "output_type": "stream",
          "text": [
            "0.6492945727614063 0.23859649122807017 0.3895750126034585 0.2917615507993398 0.5738623275746618\n",
            "0.5270476190476191 0.5014890282131661 0.5280129879252686 0.5135509607565496 0.5283870212229309\n",
            "0.550935960591133 0.4940961337513062 0.555868961598346 0.5195603473623586 0.5534578844329141\n"
          ],
          "name": "stdout"
        },
        {
          "output_type": "stream",
          "text": [
            "\n",
            "\n",
            "\n",
            "\n",
            "\n",
            "100%|██████████| 9/9 [19:54<00:00, 132.76s/it]\n",
            "\n",
            "\n",
            "\n",
            "\n",
            "\n",
            "  0%|          | 0/9 [00:00<?, ?it/s]\u001b[A\u001b[A\u001b[A\u001b[A\u001b[A"
          ],
          "name": "stderr"
        },
        {
          "output_type": "stream",
          "text": [
            "0.5246108374384236 0.4620167189132707 0.5277615900378049 0.4854489306537795 0.5471090212469523\n",
            "0.7809644959179799 0.9661736754573532 0.8012078132373767 0.875860789282782 0.4857560016321134\n",
            "0.7783520030377824 0.9672843905915894 0.7984943033573383 0.8747829717811991 0.5109324308503862\n"
          ],
          "name": "stdout"
        },
        {
          "output_type": "stream",
          "text": [
            "\n",
            "\n",
            "\n",
            "\n",
            "\n",
            " 11%|█         | 1/9 [02:56<23:31, 176.43s/it]\u001b[A\u001b[A\u001b[A\u001b[A\u001b[A"
          ],
          "name": "stderr"
        },
        {
          "output_type": "stream",
          "text": [
            "0.7835997721663186 0.9738595866001425 0.7996341334474427 0.8781677465747882 0.525752726214702\n",
            "0.5576576576576576 0.7223880597014926 0.6137873190016413 0.662858567029694 0.5345912483039349\n",
            "0.5693693693693693 0.7283582089552239 0.6220209654247983 0.6704866853029129 0.544657394843962\n"
          ],
          "name": "stdout"
        },
        {
          "output_type": "stream",
          "text": [
            "\n",
            "\n",
            "\n",
            "\n",
            "\n",
            " 22%|██▏       | 2/9 [05:48<20:25, 175.06s/it]\u001b[A\u001b[A\u001b[A\u001b[A\u001b[A"
          ],
          "name": "stderr"
        },
        {
          "output_type": "stream",
          "text": [
            "0.5846846846846847 0.764179104477612 0.6284322062247437 0.6895300439321741 0.557123473541384\n",
            "0.764393392823239 0.9622222222222222 0.7857829456838972 0.8650312142207597 0.48010884353741495\n",
            "0.7678830453768749 0.9666666666666667 0.7866140647855958 0.8673472182510321 0.5288879818594104\n"
          ],
          "name": "stdout"
        },
        {
          "output_type": "stream",
          "text": [
            "\n",
            "\n",
            "\n",
            "\n",
            "\n",
            " 33%|███▎      | 3/9 [08:41<17:27, 174.59s/it]\u001b[A\u001b[A\u001b[A\u001b[A\u001b[A"
          ],
          "name": "stderr"
        },
        {
          "output_type": "stream",
          "text": [
            "0.7757319157015379 0.9777777777777777 0.7877907565766805 0.8725232367246584 0.514524716553288\n",
            "0.5958730158730159 0.631578947368421 0.6409523809523809 0.6311159884347299 0.6570433436532507\n",
            "0.5844444444444444 0.6842105263157895 0.6120138581748489 0.6409330682801346 0.6212074303405573\n"
          ],
          "name": "stdout"
        },
        {
          "output_type": "stream",
          "text": [
            "\n",
            "\n",
            "\n",
            "\n",
            "\n",
            " 44%|████▍     | 4/9 [09:33<11:28, 137.65s/it]\u001b[A\u001b[A\u001b[A\u001b[A\u001b[A"
          ],
          "name": "stderr"
        },
        {
          "output_type": "stream",
          "text": [
            "0.5907936507936508 0.6421052631578947 0.6295233032075137 0.6225588933586924 0.604953560371517\n",
            "0.7638888888888888 0.9657918552036199 0.7837038209869522 0.8652515071223185 0.5037686016061368\n",
            "0.7694444444444445 0.9692934215106161 0.7865486752102535 0.8683771796898341 0.5400520959277306\n"
          ],
          "name": "stdout"
        },
        {
          "output_type": "stream",
          "text": [
            "\n",
            "\n",
            "\n",
            "\n",
            "\n",
            " 56%|█████▌    | 5/9 [12:19<09:45, 146.25s/it]\u001b[A\u001b[A\u001b[A\u001b[A\u001b[A"
          ],
          "name": "stderr"
        },
        {
          "output_type": "stream",
          "text": [
            "0.775 0.9752036199095022 0.7884420835447601 0.8718899721209163 0.5294919186029102\n",
            "0.553968253968254 0.48141242937853107 0.5559566376873402 0.4988181564987855 0.5424818255921215\n",
            "0.5222222222222223 0.42129943502824857 0.5126547014675732 0.45243595076377624 0.531687191929413\n"
          ],
          "name": "stdout"
        },
        {
          "output_type": "stream",
          "text": [
            "\n",
            "\n",
            "\n",
            "\n",
            "\n",
            " 67%|██████▋   | 6/9 [13:59<06:37, 132.36s/it]\u001b[A\u001b[A\u001b[A\u001b[A\u001b[A"
          ],
          "name": "stderr"
        },
        {
          "output_type": "stream",
          "text": [
            "0.5492063492063493 0.47141242937853106 0.5350224018038716 0.49757354970469725 0.5508820624663022\n",
            "0.6766500829187396 0.18717948717948718 0.43148186103709774 0.24425765560059093 0.6010322199730095\n",
            "0.670702045328911 0.18730769230769231 0.39904761904761904 0.24769059067305707 0.5665141138101665\n"
          ],
          "name": "stdout"
        },
        {
          "output_type": "stream",
          "text": [
            "\n",
            "\n",
            "\n",
            "\n",
            "\n",
            " 78%|███████▊  | 7/9 [15:45<04:08, 124.31s/it]\u001b[A\u001b[A\u001b[A\u001b[A\u001b[A"
          ],
          "name": "stderr"
        },
        {
          "output_type": "stream",
          "text": [
            "0.6454394693200664 0.1673076923076923 0.32441492726122706 0.2091690304943595 0.5499835245164193\n",
            "0.6439014677437707 0.18596491228070175 0.35998683107940976 0.2425291697111777 0.5724494442212401\n",
            "0.6353908294458983 0.1894736842105263 0.3307951559990982 0.23722589884850373 0.6029609255081332\n"
          ],
          "name": "stdout"
        },
        {
          "output_type": "stream",
          "text": [
            "\n",
            "\n",
            "\n",
            "\n",
            "\n",
            " 89%|████████▉ | 8/9 [17:59<02:07, 127.40s/it]\u001b[A\u001b[A\u001b[A\u001b[A\u001b[A"
          ],
          "name": "stderr"
        },
        {
          "output_type": "stream",
          "text": [
            "0.639651837524178 0.12631578947368421 0.28976948882319725 0.17351615155574493 0.5718378300419281\n",
            "0.5291888341543514 0.47335423197492166 0.5311901998710509 0.4973293618093169 0.5489160331015266\n",
            "0.5693004926108375 0.5534221525600835 0.5754065659648379 0.5600853926435322 0.595588314776781\n"
          ],
          "name": "stdout"
        },
        {
          "output_type": "stream",
          "text": [
            "\n",
            "\n",
            "\n",
            "\n",
            "\n",
            "100%|██████████| 9/9 [20:08<00:00, 134.32s/it]\n",
            "\n",
            "\n",
            "\n",
            "\n",
            "\n",
            "  0%|          | 0/9 [00:00<?, ?it/s]\u001b[A\u001b[A\u001b[A\u001b[A\u001b[A"
          ],
          "name": "stderr"
        },
        {
          "output_type": "stream",
          "text": [
            "0.5646896551724138 0.5670323928944618 0.5629588850865447 0.5611050270138175 0.5804091749840858\n",
            "0.7722308714638314 0.9497980517937752 0.80198434076098 0.8694597006430168 0.5141901498169898\n",
            "0.7853199164609834 0.9727013542409123 0.8015311737997743 0.8787548521276869 0.5266747669762173\n"
          ],
          "name": "stdout"
        },
        {
          "output_type": "stream",
          "text": [
            "\n",
            "\n",
            "\n",
            "\n",
            "\n",
            " 11%|█         | 1/9 [02:59<23:55, 179.45s/it]\u001b[A\u001b[A\u001b[A\u001b[A\u001b[A"
          ],
          "name": "stderr"
        },
        {
          "output_type": "stream",
          "text": [
            "0.7879551927093222 0.9814385839866951 0.7994244971031916 0.8810892497706344 0.5117245610682424\n",
            "0.536036036036036 0.6776119402985075 0.602874313457269 0.6374161243793978 0.503663500678426\n",
            "0.5756756756756757 0.764179104477612 0.6205225267334549 0.6845641778574951 0.5254240162822252\n"
          ],
          "name": "stdout"
        },
        {
          "output_type": "stream",
          "text": [
            "\n",
            "\n",
            "\n",
            "\n",
            "\n",
            " 22%|██▏       | 2/9 [05:53<20:44, 177.84s/it]\u001b[A\u001b[A\u001b[A\u001b[A\u001b[A"
          ],
          "name": "stderr"
        },
        {
          "output_type": "stream",
          "text": [
            "0.5990990990990991 0.8253731343283582 0.6277776729502859 0.712787967816921 0.5379155359565808\n",
            "0.7574178849439909 0.9444444444444444 0.7885053880326047 0.8593690516185359 0.5167240362811791\n",
            "0.7696031896715397 0.9655555555555555 0.7884722301907985 0.8679884076939678 0.5393108843537415\n"
          ],
          "name": "stdout"
        },
        {
          "output_type": "stream",
          "text": [
            "\n",
            "\n",
            "\n",
            "\n",
            "\n",
            " 33%|███▎      | 3/9 [08:53<17:50, 178.45s/it]\u001b[A\u001b[A\u001b[A\u001b[A\u001b[A"
          ],
          "name": "stderr"
        },
        {
          "output_type": "stream",
          "text": [
            "0.7722308714638314 0.9733333333333334 0.7870066450110503 0.8702382382382382 0.5130374149659863\n",
            "0.5731746031746031 0.631578947368421 0.6124482401656315 0.6168992248062015 0.6047987616099071\n",
            "0.6303174603174603 0.7052631578947368 0.6499303815093289 0.6728288700599914 0.628250773993808\n"
          ],
          "name": "stdout"
        },
        {
          "output_type": "stream",
          "text": [
            "\n",
            "\n",
            "\n",
            "\n",
            "\n",
            " 44%|████▍     | 4/9 [09:46<11:43, 140.71s/it]\u001b[A\u001b[A\u001b[A\u001b[A\u001b[A"
          ],
          "name": "stderr"
        },
        {
          "output_type": "stream",
          "text": [
            "0.6412698412698412 0.7263157894736842 0.6521804511278195 0.6832062185365657 0.6358359133126935\n",
            "0.7657407407407407 0.9516045945005221 0.7918707424552353 0.8643355781486385 0.4861513523625654\n",
            "0.774074074074074 0.9728437173686042 0.7886690256481417 0.8710852118401207 0.5020937221179163\n"
          ],
          "name": "stdout"
        },
        {
          "output_type": "stream",
          "text": [
            "\n",
            "\n",
            "\n",
            "\n",
            "\n",
            " 56%|█████▌    | 5/9 [12:37<09:59, 149.85s/it]\u001b[A\u001b[A\u001b[A\u001b[A\u001b[A"
          ],
          "name": "stderr"
        },
        {
          "output_type": "stream",
          "text": [
            "0.7731481481481481 0.9799095022624434 0.7846114226611677 0.8714211873727925 0.5257147956041012\n",
            "0.5492063492063493 0.47175141242937857 0.5383816698501889 0.49539107653802406 0.5444841087321481\n",
            "0.5555555555555556 0.47508474576271187 0.5540368037135279 0.5015993521611499 0.5484724873322142\n"
          ],
          "name": "stdout"
        },
        {
          "output_type": "stream",
          "text": [
            "\n",
            "\n",
            "\n",
            "\n",
            "\n",
            " 67%|██████▋   | 6/9 [14:19<06:46, 135.51s/it]\u001b[A\u001b[A\u001b[A\u001b[A\u001b[A"
          ],
          "name": "stderr"
        },
        {
          "output_type": "stream",
          "text": [
            "0.5206349206349207 0.47497175141242937 0.5029016057317944 0.47574757299438153 0.5424089746439861\n",
            "0.6499502487562189 0.15166666666666667 0.32710333145115755 0.19820295837633298 0.5989518106162842\n",
            "0.6869983416252073 0.14128205128205126 0.4239105829088851 0.19395780757207495 0.5942066464237516\n"
          ],
          "name": "stdout"
        },
        {
          "output_type": "stream",
          "text": [
            "\n",
            "\n",
            "\n",
            "\n",
            "\n",
            " 78%|███████▊  | 7/9 [16:07<04:14, 127.35s/it]\u001b[A\u001b[A\u001b[A\u001b[A\u001b[A"
          ],
          "name": "stderr"
        },
        {
          "output_type": "stream",
          "text": [
            "0.6692205638474296 0.0908974358974359 0.36 0.13210135014572058 0.5600917678812415\n",
            "0.6428376379565366 0.21403508771929824 0.3655854454402549 0.26796277778457595 0.5835682129575259\n",
            "0.6662760268517465 0.17894736842105263 0.4112184463228106 0.24728141057254982 0.6086860133304488\n"
          ],
          "name": "stdout"
        },
        {
          "output_type": "stream",
          "text": [
            "\n",
            "\n",
            "\n",
            "\n",
            "\n",
            " 89%|████████▉ | 8/9 [18:25<02:10, 130.62s/it]\u001b[A\u001b[A\u001b[A\u001b[A\u001b[A"
          ],
          "name": "stderr"
        },
        {
          "output_type": "stream",
          "text": [
            "0.6641938787120264 0.11578947368421053 0.35833206203915585 0.17432433648223122 0.6106363383502798\n",
            "0.5475336617405583 0.516901776384535 0.5531669477587129 0.5313240657708509 0.5544645323628676\n",
            "0.5761773399014779 0.5831765935214211 0.5787659393081932 0.5745869225133171 0.5772339927215075\n"
          ],
          "name": "stdout"
        },
        {
          "output_type": "stream",
          "text": [
            "\n",
            "\n",
            "\n",
            "\n",
            "\n",
            "100%|██████████| 9/9 [20:38<00:00, 137.62s/it]"
          ],
          "name": "stderr"
        },
        {
          "output_type": "stream",
          "text": [
            "0.5601313628899836 0.5670585161964472 0.5628389268389268 0.5550719640969314 0.5809505578976447\n"
          ],
          "name": "stdout"
        },
        {
          "output_type": "stream",
          "text": [
            "\n"
          ],
          "name": "stderr"
        }
      ]
    },
    {
      "cell_type": "code",
      "metadata": {
        "id": "0VxrrrAriUmQ",
        "colab_type": "code",
        "colab": {}
      },
      "source": [
        "df_results_PCA.to_excel('results_PCA.xlsx')"
      ],
      "execution_count": 0,
      "outputs": []
    }
  ]
}