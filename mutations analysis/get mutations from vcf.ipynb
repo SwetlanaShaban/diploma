{
  "nbformat": 4,
  "nbformat_minor": 0,
  "metadata": {
    "colab": {
      "name": "научилась.ipynb",
      "provenance": [],
      "collapsed_sections": []
    },
    "kernelspec": {
      "display_name": "Python 3",
      "language": "python",
      "name": "python3"
    },
    "language_info": {
      "codemirror_mode": {
        "name": "ipython",
        "version": 3
      },
      "file_extension": ".py",
      "mimetype": "text/x-python",
      "name": "python",
      "nbconvert_exporter": "python",
      "pygments_lexer": "ipython3",
      "version": "3.6.5"
    }
  },
  "cells": [
    {
      "cell_type": "code",
      "metadata": {
        "id": "baZv6Bg0YNno",
        "colab_type": "code",
        "colab": {}
      },
      "source": [
        "import pandas as pd\n",
        "!pip install scikit-allel\n",
        "import vcf\n",
        "import allel\n",
        "from collections import defaultdict \n",
        "from tqdm import tqdm\n",
        "import csv"
      ],
      "execution_count": 0,
      "outputs": []
    },
    {
      "cell_type": "code",
      "metadata": {
        "colab_type": "code",
        "id": "YOCI2W-79iY5",
        "outputId": "80ab4cd6-6537-4a03-89a9-280e65e83393",
        "colab": {
          "base_uri": "https://localhost:8080/",
          "height": 459
        }
      },
      "source": [
        "df = pd.read_excel('phenotypic test results.xlsx')\n",
        "\n",
        "for i in tqdm(range(0, 24)):\n",
        "    s = df['SRR_KEY'][i*50: min((i+1)*50, len(df['SRR_KEY']))]\n",
        "    callset = allel.read_vcf('all_filtered.vcf.gz', fields=['calldata/GT', 'variants/POS', 'samples'], samples=s)\n",
        "    rows_1, cols_1 = np.where(callset['calldata/GT'][:, :, 0] == 1)\n",
        "    rows_unknown, cols_unknown = np.where(callset['calldata/GT'][:, :, 0] == -1)\n",
        "    d_1 = defaultdict(list)\n",
        "    d_unknown = defaultdict(list)\n",
        "    for x, y in zip(callset['samples'][cols_1], callset['variants/POS'][rows_1]):\n",
        "        d_1[x].append(y)\n",
        "    for x, y in zip(callset['samples'][cols_unknown], callset['variants/POS'][rows_unknown]):\n",
        "        d_unknown[x].append(y)\n",
        "    with open('mutations/' + str(i) + '_1.csv', 'w') as f:\n",
        "      writer = csv.writer(f)    \n",
        "      for k,v in d_1.items():\n",
        "          writer.writerow([k] + v) \n",
        "    with open('unknown/' + str(i) + '_unknown.csv', 'w') as f:\n",
        "        writer = csv.writer(f)    \n",
        "        for k,v in d_unknown.items():\n",
        "            writer.writerow([k] + v)"
      ],
      "execution_count": 0,
      "outputs": [
        {
          "output_type": "stream",
          "text": [
            "\n",
            "  0%|          | 0/24 [00:00<?, ?it/s]\u001b[A\n",
            "  4%|▍         | 1/24 [02:54<1:06:48, 174.30s/it]\u001b[A\n",
            "  8%|▊         | 2/24 [05:50<1:04:04, 174.75s/it]\u001b[A\n",
            " 12%|█▎        | 3/24 [08:45<1:01:12, 174.89s/it]\u001b[A\n",
            " 17%|█▋        | 4/24 [11:40<58:20, 175.01s/it]  \u001b[A\n",
            " 21%|██        | 5/24 [14:35<55:26, 175.06s/it]\u001b[A\n",
            " 25%|██▌       | 6/24 [17:31<52:35, 175.28s/it]\u001b[A\n",
            " 29%|██▉       | 7/24 [20:27<49:41, 175.39s/it]\u001b[A\n",
            " 33%|███▎      | 8/24 [23:23<46:48, 175.55s/it]\u001b[A\n",
            " 38%|███▊      | 9/24 [26:19<43:54, 175.67s/it]\u001b[A\n",
            " 42%|████▏     | 10/24 [29:15<41:00, 175.75s/it]\u001b[A\n",
            " 46%|████▌     | 11/24 [32:10<38:04, 175.73s/it]\u001b[A\n",
            " 50%|█████     | 12/24 [35:07<35:13, 176.09s/it]\u001b[A\n",
            " 54%|█████▍    | 13/24 [38:04<32:19, 176.31s/it]\u001b[A\n",
            " 58%|█████▊    | 14/24 [40:59<29:20, 176.02s/it]\u001b[A\n",
            " 62%|██████▎   | 15/24 [43:56<26:24, 176.10s/it]\u001b[A\n",
            " 67%|██████▋   | 16/24 [46:51<23:27, 175.92s/it]\u001b[A\n",
            " 71%|███████   | 17/24 [49:47<20:32, 176.06s/it]\u001b[A\n",
            " 75%|███████▌  | 18/24 [52:44<17:37, 176.20s/it]\u001b[A\n",
            " 79%|███████▉  | 19/24 [55:39<14:38, 175.75s/it]\u001b[A\n",
            " 83%|████████▎ | 20/24 [58:36<11:44, 176.12s/it]\u001b[A\n",
            " 88%|████████▊ | 21/24 [1:01:32<08:48, 176.18s/it]\u001b[A\n",
            " 92%|█████████▏| 22/24 [1:04:29<05:52, 176.33s/it]\u001b[A\n",
            " 96%|█████████▌| 23/24 [1:07:26<02:56, 176.59s/it]\u001b[A\n",
            "100%|██████████| 24/24 [1:10:13<00:00, 175.58s/it]\n"
          ],
          "name": "stderr"
        }
      ]
    }
  ]
}