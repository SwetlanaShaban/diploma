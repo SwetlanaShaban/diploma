{
 "cells": [
  {
   "cell_type": "code",
   "execution_count": null,
   "metadata": {},
   "outputs": [],
   "source": [
    "!pip install iterative-stratification\n",
    "!pip install scikit-multilearn\n",
    "import pandas as pd\n",
    "from collections import defaultdict \n",
    "from tqdm import tqdm\n",
    "import numpy as np\n",
    "import csv\n",
    "from collections import OrderedDict\n",
    "df = pd.read_excel('phenotypic test results.xlsx')"
   ]
  },
  {
   "cell_type": "code",
   "execution_count": 0,
   "metadata": {
    "colab": {
     "base_uri": "https://localhost:8080/",
     "height": 34
    },
    "colab_type": "code",
    "id": "SJNIs94Spj7V",
    "outputId": "f5566140-5814-4c8e-828c-00cae85b32c1"
   },
   "outputs": [
    {
     "data": {
      "text/plain": [
       "{'I', 'IR', 'IS', 'R', 'RS', 'S', 'SI', 'SR', nan}"
      ]
     },
     "execution_count": 2,
     "metadata": {
      "tags": []
     },
     "output_type": "execute_result"
    }
   ],
   "source": [
    "s = set()\n",
    "for c in df.columns[1:]:\n",
    "  s.update(pd.unique(df[c]))\n",
    "s"
   ]
  },
  {
   "cell_type": "code",
   "execution_count": 0,
   "metadata": {
    "colab": {},
    "colab_type": "code",
    "id": "xOXcxuuPptUa"
   },
   "outputs": [],
   "source": [
    "df = df.replace('I', np.nan)\n",
    "df = df.replace('IR', 1)\n",
    "df = df.replace('R', 1)\n",
    "df = df.replace('RS', 1)\n",
    "df = df.replace('IS', 0)\n",
    "df = df.replace('S', 0)\n",
    "df = df.replace('SI', 0)\n",
    "df = df.replace('SR', 0)\n",
    "df0 = pd.DataFrame(columns=df.to_numpy().T[0], index=[df.columns[1:]], data=df.to_numpy().T[1:])"
   ]
  },
  {
   "cell_type": "code",
   "execution_count": 0,
   "metadata": {
    "colab": {},
    "colab_type": "code",
    "id": "cYksoasfpv3b"
   },
   "outputs": [],
   "source": [
    "filenames = []\n",
    "for x in range(0, 24):\n",
    "  filenames.append('mutations/'+str(x)+'_1.csv')\n",
    "\n",
    "d_1 = OrderedDict()\n",
    "for fname in filenames:\n",
    "  reader = csv.reader(open(fname, 'r'))\n",
    "  for row in reader:\n",
    "      d_1[row[0]] = np.array(list(map(int, row[1:])))"
   ]
  },
  {
   "cell_type": "code",
   "execution_count": 0,
   "metadata": {
    "colab": {},
    "colab_type": "code",
    "id": "YHVPWc_vp2ID"
   },
   "outputs": [],
   "source": [
    "l_1 = set()\n",
    "for k in d_1:\n",
    "  l_1.update(list(d_1[k]))\n",
    "dict_number_mutation = dict(zip(range(0, len(l_1)), sorted(l_1)))\n",
    "dict_mutation_number = dict(zip(sorted(l_1), range(0, len(l_1))))\n",
    "array_1 = np.zeros((len(d_1), len(l_1)))\n",
    "\n",
    "for i, k in enumerate(d_1):\n",
    "  for j in d_1[k]:\n",
    "    array_1[i, dict_mutation_number[j]] = 1\n",
    "\n",
    "X = pd.DataFrame(data=array_1, index=d_1.keys(), columns=l_1)"
   ]
  },
  {
   "cell_type": "code",
   "execution_count": 0,
   "metadata": {
    "colab": {},
    "colab_type": "code",
    "id": "sDnIueRvp4tX"
   },
   "outputs": [],
   "source": [
    "u, c = np.unique(df0.columns, return_counts=True)\n",
    "dup = u[c > 1]\n",
    "df_dulicated = df0[dup]\n",
    "df0 = df0.drop(columns=dup)"
   ]
  },
  {
   "cell_type": "code",
   "execution_count": 0,
   "metadata": {
    "colab": {},
    "colab_type": "code",
    "id": "znkNeUQ4p_tz"
   },
   "outputs": [],
   "source": [
    "for x in dup:\n",
    "  l1 = df_dulicated[x].to_numpy(dtype=np.float64)[:, 0]\n",
    "  l2 = df_dulicated[x].to_numpy(dtype=np.float64)[:, 1]\n",
    "  if sum(np.isnan(l1)) > sum(np.isnan(l2)):\n",
    "    df0[x] = l2\n",
    "  else:\n",
    "    df0[x] = l1\n",
    "y = df0[d_1.keys()]"
   ]
  },
  {
   "cell_type": "code",
   "execution_count": 0,
   "metadata": {
    "colab": {},
    "colab_type": "code",
    "id": "m9Mf17zslIXO"
   },
   "outputs": [],
   "source": [
    "y = y.loc[['INH', 'EMB', 'RIF']].dropna(1)\n",
    "y_array = y.to_numpy().T.astype('int')\n",
    "X_array = X.loc[y.columns].to_numpy().astype('int')"
   ]
  },
  {
   "cell_type": "code",
   "execution_count": 0,
   "metadata": {
    "colab": {
     "base_uri": "https://localhost:8080/",
     "height": 408
    },
    "colab_type": "code",
    "id": "tT4khaDQc7HH",
    "outputId": "da73ab9f-0402-4ab5-a403-0b8bb0f8b8c4"
   },
   "outputs": [
    {
     "data": {
      "text/plain": [
       "GridSearchCV(cv=MultilabelStratifiedKFold(n_splits=5, random_state=None, shuffle=False),\n",
       "             error_score=nan,\n",
       "             estimator=RandomForestClassifier(bootstrap=True, ccp_alpha=0.0,\n",
       "                                              class_weight=None,\n",
       "                                              criterion='gini', max_depth=None,\n",
       "                                              max_features='auto',\n",
       "                                              max_leaf_nodes=None,\n",
       "                                              max_samples=None,\n",
       "                                              min_impurity_decrease=0.0,\n",
       "                                              min_impurity_split=None,\n",
       "                                              min_samples_leaf=1,\n",
       "                                              min_sample...\n",
       "                                              n_estimators=100, n_jobs=None,\n",
       "                                              oob_score=False,\n",
       "                                              random_state=None, verbose=0,\n",
       "                                              warm_start=False),\n",
       "             iid='deprecated', n_jobs=None,\n",
       "             param_grid={'bootstrap': [True, False],\n",
       "                         'max_features': ['auto', 'log2'],\n",
       "                         'min_samples_split': [2, 4, 8],\n",
       "                         'n_estimators': [10, 20, 30, 100]},\n",
       "             pre_dispatch='2*n_jobs', refit=True, return_train_score=False,\n",
       "             scoring=make_scorer(roc_auc_score, average=macro), verbose=0)"
      ]
     },
     "execution_count": 56,
     "metadata": {
      "tags": []
     },
     "output_type": "execute_result"
    }
   ],
   "source": [
    "from sklearn.model_selection import GridSearchCV\n",
    "from sklearn.ensemble import RandomForestClassifier\n",
    "from iterstrat.ml_stratifiers import MultilabelStratifiedKFold\n",
    "from sklearn.metrics import roc_auc_score, make_scorer\n",
    "\n",
    "roc_auc_macro = make_scorer(roc_auc_score, average='macro')\n",
    "mskf = MultilabelStratifiedKFold(n_splits=5)\n",
    "parameters_rf = {'n_estimators':[10,20,30,100], 'max_features':['auto','log2'], 'min_samples_split':[2,4,8], 'bootstrap':[True, False]}\n",
    "clf_rnn = GridSearchCV(RandomForestClassifier(), parameters_rf, scoring=roc_auc_macro, cv=mskf)\n",
    "clf_rnn.fit(X_array, y_array)"
   ]
  },
  {
   "cell_type": "code",
   "execution_count": 0,
   "metadata": {
    "colab": {
     "base_uri": "https://localhost:8080/",
     "height": 136
    },
    "colab_type": "code",
    "id": "L-EqQqQQg_g7",
    "outputId": "79fd0cf9-fbfc-4943-8b6a-9cbdfa675976"
   },
   "outputs": [
    {
     "data": {
      "text/plain": [
       "GridSearchCV(cv=MultilabelStratifiedKFold(n_splits=5, random_state=None, shuffle=False),\n",
       "             error_score=nan,\n",
       "             estimator=MLkNN(ignore_first_neighbours=0, k=10, s=1.0),\n",
       "             iid='deprecated', n_jobs=None,\n",
       "             param_grid={'k': [1, 3, 5], 's': [0.5, 0.7, 1.0]},\n",
       "             pre_dispatch='2*n_jobs', refit=True, return_train_score=False,\n",
       "             scoring=<function score at 0x7f22ff632e18>, verbose=0)"
      ]
     },
     "execution_count": 44,
     "metadata": {
      "tags": []
     },
     "output_type": "execute_result"
    }
   ],
   "source": [
    "from skmultilearn.adapt import MLkNN\n",
    "\n",
    "def score(estimator, X, y):\n",
    "    y_pred = estimator.predict(X).toarray()\n",
    "    return roc_auc_score(y, y_pred, average='macro')\n",
    "\n",
    "parameters_knn = {'k': [1, 3, 5], 's': [0.5, 0.7, 1.0]}\n",
    "knn = MLkNN()\n",
    "clf_knn = GridSearchCV(knn, parameters_knn, scoring=score, cv=mskf)\n",
    "clf_knn.fit(X_array, y_array)"
   ]
  },
  {
   "cell_type": "code",
   "execution_count": 0,
   "metadata": {
    "colab": {
     "base_uri": "https://localhost:8080/",
     "height": 238
    },
    "colab_type": "code",
    "id": "AREsfs_iwSL7",
    "outputId": "beaf50b2-120d-4bf3-e2a1-3ce915fa36b0"
   },
   "outputs": [
    {
     "name": "stderr",
     "output_type": "stream",
     "text": [
      "\n",
      "\n",
      "0it [00:00, ?it/s]\u001b[A\u001b[A\n",
      "\n",
      "1it [00:25, 25.86s/it]\u001b[A\u001b[A\n",
      "\n",
      "2it [00:52, 25.97s/it]\u001b[A\u001b[A\n",
      "\n",
      "3it [01:18, 26.02s/it]\u001b[A\u001b[A\n",
      "\n",
      "4it [01:43, 25.90s/it]\u001b[A\u001b[A\n",
      "\n",
      "5it [02:09, 25.86s/it]\n"
     ]
    }
   ],
   "source": [
    "from sklearn.metrics import accuracy_score, precision_score, recall_score, roc_auc_score, f1_score\n",
    "\n",
    "knn_results = {\"accuracy\":0, \"roc_auc\":0, \"f1\":0, \"recall\":0, \"precision\":0}\n",
    "rf_results = {\"accuracy\":0, \"roc_auc\":0, \"f1\":0, \"recall\":0, \"precision\":0}\n",
    "\n",
    "for train_index, test_index in tqdm(mskf.split(X_array, y_array)):\n",
    "    X_train, X_test = X_array[train_index], X_array[test_index]\n",
    "    y_train, y_test = y_array[train_index], y_array[test_index]\n",
    "    clf_knn.best_estimator_.fit(X_train, y_train)\n",
    "    y_pred_knn = clf_knn.best_estimator_.predict(X_test).toarray()\n",
    "    clf_rnn.best_estimator_.fit(X_train, y_train)\n",
    "    y_pred_rf = clf_rnn.best_estimator_.predict(X_test)\n",
    "    for y_pred, d in zip([y_pred_knn, y_pred_rf], [knn_results, rf_results]):\n",
    "        d[\"accuracy\"] += accuracy_score(y_pred, y_test) / 5\n",
    "        d[\"precision\"] += precision_score(y_pred, y_test, average='macro') / 5\n",
    "        d[\"recall\"] += recall_score(y_pred, y_test, average='macro') / 5\n",
    "        d[\"roc_auc\"] += roc_auc_score(y_pred, y_test, average='macro') / 5\n",
    "        d[\"f1\"] += f1_score(y_pred, y_test, average='macro') / 5"
   ]
  },
  {
   "cell_type": "code",
   "execution_count": 0,
   "metadata": {
    "colab": {
     "base_uri": "https://localhost:8080/",
     "height": 54
    },
    "colab_type": "code",
    "id": "sHXOt0PbkCmx",
    "outputId": "21ad1284-fcaf-40c0-a5d6-914de1142f28"
   },
   "outputs": [
    {
     "name": "stdout",
     "output_type": "stream",
     "text": [
      "{'accuracy': 0.6480045656516245, 'roc_auc': 0.7690401673763242, 'f1': 0.8712799847109658, 'recall': 0.8439980242469207, 'precision': 0.9008250390575517} {'accuracy': 0.6823244058538176, 'roc_auc': 0.8081731485707767, 'f1': 0.8908786211546577, 'recall': 0.865535252770939, 'precision': 0.9190801534575529}\n"
     ]
    }
   ],
   "source": [
    "print(knn_results, rf_results)"
   ]
  },
  {
   "cell_type": "code",
   "execution_count": 0,
   "metadata": {
    "colab": {
     "base_uri": "https://localhost:8080/",
     "height": 1000
    },
    "colab_type": "code",
    "id": "6pEyLeSneZUY",
    "outputId": "a7a62aaf-0d3e-4599-e696-9fedf831b377"
   },
   "outputs": [
    {
     "name": "stderr",
     "output_type": "stream",
     "text": [
      "\n",
      "\n",
      "\n",
      "\n",
      "\n",
      "\n",
      "\n",
      "\n",
      "\n",
      "\n",
      "0it [00:00, ?it/s]\u001b[A\u001b[A\u001b[A\u001b[A\u001b[A\u001b[A\u001b[A\u001b[A\u001b[A\u001b[A\n",
      "\n",
      "\n",
      "\n",
      "\n",
      "\n",
      "\n",
      "\n",
      "\n",
      "\n",
      "\n",
      "  0%|          | 0/5 [00:00<?, ?it/s]\u001b[A\u001b[A\u001b[A\u001b[A\u001b[A\u001b[A\u001b[A\u001b[A\u001b[A\u001b[A\u001b[A\n",
      "\n",
      "\n",
      "\n",
      "\n",
      "\n",
      "\n",
      "\n",
      "\n",
      "\n",
      "\n",
      " 20%|██        | 1/5 [01:45<07:00, 105.24s/it]\u001b[A\u001b[A\u001b[A\u001b[A\u001b[A\u001b[A\u001b[A\u001b[A\u001b[A\u001b[A\u001b[A"
     ]
    },
    {
     "name": "stdout",
     "output_type": "stream",
     "text": [
      "0.7285067873303167\n",
      "    accuracy    recall  precision   roc_auc        f1\n",
      "10  0.145701  0.176643   0.186794  0.168524  0.181525\n",
      "20  0.000000  0.000000   0.000000  0.000000  0.000000\n",
      "30  0.000000  0.000000   0.000000  0.000000  0.000000\n",
      "40  0.000000  0.000000   0.000000  0.000000  0.000000\n",
      "50  0.000000  0.000000   0.000000  0.000000  0.000000\n"
     ]
    },
    {
     "name": "stderr",
     "output_type": "stream",
     "text": [
      "\n",
      "\n",
      "\n",
      "\n",
      "\n",
      "\n",
      "\n",
      "\n",
      "\n",
      "\n",
      "\n",
      " 40%|████      | 2/5 [05:19<06:54, 138.05s/it]\u001b[A\u001b[A\u001b[A\u001b[A\u001b[A\u001b[A\u001b[A\u001b[A\u001b[A\u001b[A\u001b[A"
     ]
    },
    {
     "name": "stdout",
     "output_type": "stream",
     "text": [
      "0.7285067873303167\n",
      "    accuracy    recall  precision   roc_auc        f1\n",
      "10  0.145701  0.176643   0.186794  0.168524  0.181525\n",
      "20  0.145701  0.176253   0.186794  0.168331  0.181300\n",
      "30  0.000000  0.000000   0.000000  0.000000  0.000000\n",
      "40  0.000000  0.000000   0.000000  0.000000  0.000000\n",
      "50  0.000000  0.000000   0.000000  0.000000  0.000000\n"
     ]
    },
    {
     "name": "stderr",
     "output_type": "stream",
     "text": [
      "\n",
      "\n",
      "\n",
      "\n",
      "\n",
      "\n",
      "\n",
      "\n",
      "\n",
      "\n",
      "\n",
      " 60%|██████    | 3/5 [10:23<06:15, 187.86s/it]\u001b[A\u001b[A\u001b[A\u001b[A\u001b[A\u001b[A\u001b[A\u001b[A\u001b[A\u001b[A\u001b[A"
     ]
    },
    {
     "name": "stdout",
     "output_type": "stream",
     "text": [
      "0.7285067873303167\n",
      "    accuracy    recall  precision   roc_auc        f1\n",
      "10  0.145701  0.176643   0.186794  0.168524  0.181525\n",
      "20  0.145701  0.176253   0.186794  0.168331  0.181300\n",
      "30  0.145701  0.176253   0.186794  0.168331  0.181300\n",
      "40  0.000000  0.000000   0.000000  0.000000  0.000000\n",
      "50  0.000000  0.000000   0.000000  0.000000  0.000000\n"
     ]
    },
    {
     "name": "stderr",
     "output_type": "stream",
     "text": [
      "\n",
      "\n",
      "\n",
      "\n",
      "\n",
      "\n",
      "\n",
      "\n",
      "\n",
      "\n",
      "\n",
      " 80%|████████  | 4/5 [17:07<04:12, 252.72s/it]\u001b[A\u001b[A\u001b[A\u001b[A\u001b[A\u001b[A\u001b[A\u001b[A\u001b[A\u001b[A\u001b[A"
     ]
    },
    {
     "name": "stdout",
     "output_type": "stream",
     "text": [
      "0.7285067873303167\n",
      "    accuracy    recall  precision   roc_auc        f1\n",
      "10  0.145701  0.176643   0.186794  0.168524  0.181525\n",
      "20  0.145701  0.176253   0.186794  0.168331  0.181300\n",
      "30  0.145701  0.176253   0.186794  0.168331  0.181300\n",
      "40  0.145701  0.176253   0.186794  0.168331  0.181300\n",
      "50  0.000000  0.000000   0.000000  0.000000  0.000000\n"
     ]
    },
    {
     "name": "stderr",
     "output_type": "stream",
     "text": [
      "\n",
      "\n",
      "\n",
      "\n",
      "\n",
      "\n",
      "\n",
      "\n",
      "\n",
      "\n",
      "\n",
      "100%|██████████| 5/5 [25:34<00:00, 306.80s/it]\n",
      "\n",
      "\n",
      "\n",
      "\n",
      "\n",
      "\n",
      "\n",
      "\n",
      "\n",
      "\n",
      "1it [25:34, 1534.20s/it]\u001b[A\u001b[A\u001b[A\u001b[A\u001b[A\u001b[A\u001b[A\u001b[A\u001b[A\u001b[A"
     ]
    },
    {
     "name": "stdout",
     "output_type": "stream",
     "text": [
      "0.7285067873303167\n",
      "    accuracy    recall  precision   roc_auc        f1\n",
      "10  0.145701  0.176643   0.186794  0.168524  0.181525\n",
      "20  0.145701  0.176253   0.186794  0.168331  0.181300\n",
      "30  0.145701  0.176253   0.186794  0.168331  0.181300\n",
      "40  0.145701  0.176253   0.186794  0.168331  0.181300\n",
      "50  0.145701  0.176253   0.186794  0.168331  0.181300\n"
     ]
    },
    {
     "name": "stderr",
     "output_type": "stream",
     "text": [
      "\n",
      "\n",
      "\n",
      "\n",
      "\n",
      "\n",
      "\n",
      "\n",
      "\n",
      "\n",
      "\n",
      "  0%|          | 0/5 [00:00<?, ?it/s]\u001b[A\u001b[A\u001b[A\u001b[A\u001b[A\u001b[A\u001b[A\u001b[A\u001b[A\u001b[A\u001b[A\n",
      "\n",
      "\n",
      "\n",
      "\n",
      "\n",
      "\n",
      "\n",
      "\n",
      "\n",
      "\n",
      " 20%|██        | 1/5 [01:38<06:33, 98.45s/it]\u001b[A\u001b[A\u001b[A\u001b[A\u001b[A\u001b[A\u001b[A\u001b[A\u001b[A\u001b[A\u001b[A"
     ]
    },
    {
     "name": "stdout",
     "output_type": "stream",
     "text": [
      "0.7027027027027027\n",
      "    accuracy    recall  precision   roc_auc       f1\n",
      "10  0.286242  0.353872   0.369688  0.335697  0.36152\n",
      "20  0.145701  0.176253   0.186794  0.168331  0.18130\n",
      "30  0.145701  0.176253   0.186794  0.168331  0.18130\n",
      "40  0.145701  0.176253   0.186794  0.168331  0.18130\n",
      "50  0.145701  0.176253   0.186794  0.168331  0.18130\n"
     ]
    },
    {
     "name": "stderr",
     "output_type": "stream",
     "text": [
      "\n",
      "\n",
      "\n",
      "\n",
      "\n",
      "\n",
      "\n",
      "\n",
      "\n",
      "\n",
      "\n",
      " 40%|████      | 2/5 [04:56<06:24, 128.25s/it]\u001b[A\u001b[A\u001b[A\u001b[A\u001b[A\u001b[A\u001b[A\u001b[A\u001b[A\u001b[A\u001b[A"
     ]
    },
    {
     "name": "stdout",
     "output_type": "stream",
     "text": [
      "0.6981981981981982\n",
      "    accuracy    recall  precision   roc_auc        f1\n",
      "10  0.286242  0.353872   0.369688  0.335697  0.361520\n",
      "20  0.285341  0.353379   0.369187  0.335154  0.361004\n",
      "30  0.145701  0.176253   0.186794  0.168331  0.181300\n",
      "40  0.145701  0.176253   0.186794  0.168331  0.181300\n",
      "50  0.145701  0.176253   0.186794  0.168331  0.181300\n"
     ]
    },
    {
     "name": "stderr",
     "output_type": "stream",
     "text": [
      "\n",
      "\n",
      "\n",
      "\n",
      "\n",
      "\n",
      "\n",
      "\n",
      "\n",
      "\n",
      "\n",
      " 60%|██████    | 3/5 [09:53<05:58, 179.04s/it]\u001b[A\u001b[A\u001b[A\u001b[A\u001b[A\u001b[A\u001b[A\u001b[A\u001b[A\u001b[A\u001b[A"
     ]
    },
    {
     "name": "stdout",
     "output_type": "stream",
     "text": [
      "0.6936936936936937\n",
      "    accuracy    recall  precision   roc_auc        f1\n",
      "10  0.286242  0.353872   0.369688  0.335697  0.361520\n",
      "20  0.285341  0.353379   0.369187  0.335154  0.361004\n",
      "30  0.284440  0.353274   0.368686  0.334811  0.360712\n",
      "40  0.145701  0.176253   0.186794  0.168331  0.181300\n",
      "50  0.145701  0.176253   0.186794  0.168331  0.181300\n"
     ]
    },
    {
     "name": "stderr",
     "output_type": "stream",
     "text": [
      "\n",
      "\n",
      "\n",
      "\n",
      "\n",
      "\n",
      "\n",
      "\n",
      "\n",
      "\n",
      "\n",
      " 80%|████████  | 4/5 [16:31<04:04, 244.53s/it]\u001b[A\u001b[A\u001b[A\u001b[A\u001b[A\u001b[A\u001b[A\u001b[A\u001b[A\u001b[A\u001b[A"
     ]
    },
    {
     "name": "stdout",
     "output_type": "stream",
     "text": [
      "0.6936936936936937\n",
      "    accuracy    recall  precision   roc_auc        f1\n",
      "10  0.286242  0.353872   0.369688  0.335697  0.361520\n",
      "20  0.285341  0.353379   0.369187  0.335154  0.361004\n",
      "30  0.284440  0.353274   0.368686  0.334811  0.360712\n",
      "40  0.284440  0.353274   0.368686  0.334811  0.360712\n",
      "50  0.145701  0.176253   0.186794  0.168331  0.181300\n"
     ]
    },
    {
     "name": "stderr",
     "output_type": "stream",
     "text": [
      "\n",
      "\n",
      "\n",
      "\n",
      "\n",
      "\n",
      "\n",
      "\n",
      "\n",
      "\n",
      "\n",
      "100%|██████████| 5/5 [24:37<00:00, 295.58s/it]\n",
      "\n",
      "\n",
      "\n",
      "\n",
      "\n",
      "\n",
      "\n",
      "\n",
      "\n",
      "\n",
      "2it [50:12, 1517.37s/it]\u001b[A\u001b[A\u001b[A\u001b[A\u001b[A\u001b[A\u001b[A\u001b[A\u001b[A\u001b[A"
     ]
    },
    {
     "name": "stdout",
     "output_type": "stream",
     "text": [
      "0.6936936936936937\n",
      "    accuracy    recall  precision   roc_auc        f1\n",
      "10  0.286242  0.353872   0.369688  0.335697  0.361520\n",
      "20  0.285341  0.353379   0.369187  0.335154  0.361004\n",
      "30  0.284440  0.353274   0.368686  0.334811  0.360712\n",
      "40  0.284440  0.353274   0.368686  0.334811  0.360712\n",
      "50  0.284440  0.353274   0.368686  0.334811  0.360712\n"
     ]
    },
    {
     "name": "stderr",
     "output_type": "stream",
     "text": [
      "\n",
      "\n",
      "\n",
      "\n",
      "\n",
      "\n",
      "\n",
      "\n",
      "\n",
      "\n",
      "\n",
      "  0%|          | 0/5 [00:00<?, ?it/s]\u001b[A\u001b[A\u001b[A\u001b[A\u001b[A\u001b[A\u001b[A\u001b[A\u001b[A\u001b[A\u001b[A\n",
      "\n",
      "\n",
      "\n",
      "\n",
      "\n",
      "\n",
      "\n",
      "\n",
      "\n",
      "\n",
      " 20%|██        | 1/5 [01:38<06:32, 98.11s/it]\u001b[A\u001b[A\u001b[A\u001b[A\u001b[A\u001b[A\u001b[A\u001b[A\u001b[A\u001b[A\u001b[A"
     ]
    },
    {
     "name": "stdout",
     "output_type": "stream",
     "text": [
      "0.7058823529411765\n",
      "    accuracy    recall  precision   roc_auc        f1\n",
      "10  0.427418  0.532868   0.551061  0.501829  0.541614\n",
      "20  0.285341  0.353379   0.369187  0.335154  0.361004\n",
      "30  0.284440  0.353274   0.368686  0.334811  0.360712\n",
      "40  0.284440  0.353274   0.368686  0.334811  0.360712\n",
      "50  0.284440  0.353274   0.368686  0.334811  0.360712\n"
     ]
    },
    {
     "name": "stderr",
     "output_type": "stream",
     "text": [
      "\n",
      "\n",
      "\n",
      "\n",
      "\n",
      "\n",
      "\n",
      "\n",
      "\n",
      "\n",
      "\n",
      " 40%|████      | 2/5 [05:04<06:31, 130.62s/it]\u001b[A\u001b[A\u001b[A\u001b[A\u001b[A\u001b[A\u001b[A\u001b[A\u001b[A\u001b[A\u001b[A"
     ]
    },
    {
     "name": "stdout",
     "output_type": "stream",
     "text": [
      "0.7058823529411765\n",
      "    accuracy    recall  precision   roc_auc        f1\n",
      "10  0.427418  0.532868   0.551061  0.501829  0.541614\n",
      "20  0.426517  0.532387   0.550934  0.501831  0.541298\n",
      "30  0.284440  0.353274   0.368686  0.334811  0.360712\n",
      "40  0.284440  0.353274   0.368686  0.334811  0.360712\n",
      "50  0.284440  0.353274   0.368686  0.334811  0.360712\n"
     ]
    },
    {
     "name": "stderr",
     "output_type": "stream",
     "text": [
      "\n",
      "\n",
      "\n",
      "\n",
      "\n",
      "\n",
      "\n",
      "\n",
      "\n",
      "\n",
      "\n",
      " 60%|██████    | 3/5 [10:02<06:01, 180.76s/it]\u001b[A\u001b[A\u001b[A\u001b[A\u001b[A\u001b[A\u001b[A\u001b[A\u001b[A\u001b[A\u001b[A"
     ]
    },
    {
     "name": "stdout",
     "output_type": "stream",
     "text": [
      "0.7104072398190046\n",
      "    accuracy    recall  precision   roc_auc        f1\n",
      "10  0.427418  0.532868   0.551061  0.501829  0.541614\n",
      "20  0.426517  0.532387   0.550934  0.501831  0.541298\n",
      "30  0.426522  0.532641   0.550433  0.501795  0.541197\n",
      "40  0.284440  0.353274   0.368686  0.334811  0.360712\n",
      "50  0.284440  0.353274   0.368686  0.334811  0.360712\n"
     ]
    },
    {
     "name": "stderr",
     "output_type": "stream",
     "text": [
      "\n",
      "\n",
      "\n",
      "\n",
      "\n",
      "\n",
      "\n",
      "\n",
      "\n",
      "\n",
      "\n",
      " 80%|████████  | 4/5 [17:00<04:11, 251.86s/it]\u001b[A\u001b[A\u001b[A\u001b[A\u001b[A\u001b[A\u001b[A\u001b[A\u001b[A\u001b[A\u001b[A"
     ]
    },
    {
     "name": "stdout",
     "output_type": "stream",
     "text": [
      "0.7104072398190046\n",
      "    accuracy    recall  precision   roc_auc        f1\n",
      "10  0.427418  0.532868   0.551061  0.501829  0.541614\n",
      "20  0.426517  0.532387   0.550934  0.501831  0.541298\n",
      "30  0.426522  0.532641   0.550433  0.501795  0.541197\n",
      "40  0.426522  0.532641   0.550433  0.501795  0.541197\n",
      "50  0.284440  0.353274   0.368686  0.334811  0.360712\n"
     ]
    },
    {
     "name": "stderr",
     "output_type": "stream",
     "text": [
      "\n",
      "\n",
      "\n",
      "\n",
      "\n",
      "\n",
      "\n",
      "\n",
      "\n",
      "\n",
      "\n",
      "100%|██████████| 5/5 [25:21<00:00, 304.22s/it]\n",
      "\n",
      "\n",
      "\n",
      "\n",
      "\n",
      "\n",
      "\n",
      "\n",
      "\n",
      "\n",
      "3it [1:15:33, 1518.64s/it]\u001b[A\u001b[A\u001b[A\u001b[A\u001b[A\u001b[A\u001b[A\u001b[A\u001b[A\u001b[A"
     ]
    },
    {
     "name": "stdout",
     "output_type": "stream",
     "text": [
      "0.7104072398190046\n",
      "    accuracy    recall  precision   roc_auc        f1\n",
      "10  0.427418  0.532868   0.551061  0.501829  0.541614\n",
      "20  0.426517  0.532387   0.550934  0.501831  0.541298\n",
      "30  0.426522  0.532641   0.550433  0.501795  0.541197\n",
      "40  0.426522  0.532641   0.550433  0.501795  0.541197\n",
      "50  0.426522  0.532641   0.550433  0.501795  0.541197\n"
     ]
    },
    {
     "name": "stderr",
     "output_type": "stream",
     "text": [
      "\n",
      "\n",
      "\n",
      "\n",
      "\n",
      "\n",
      "\n",
      "\n",
      "\n",
      "\n",
      "\n",
      "  0%|          | 0/5 [00:00<?, ?it/s]\u001b[A\u001b[A\u001b[A\u001b[A\u001b[A\u001b[A\u001b[A\u001b[A\u001b[A\u001b[A\u001b[A\n",
      "\n",
      "\n",
      "\n",
      "\n",
      "\n",
      "\n",
      "\n",
      "\n",
      "\n",
      "\n",
      " 20%|██        | 1/5 [01:39<06:38, 99.51s/it]\u001b[A\u001b[A\u001b[A\u001b[A\u001b[A\u001b[A\u001b[A\u001b[A\u001b[A\u001b[A\u001b[A"
     ]
    },
    {
     "name": "stdout",
     "output_type": "stream",
     "text": [
      "0.7027027027027027\n",
      "    accuracy    recall  precision   roc_auc        f1\n",
      "10  0.567959  0.709795   0.735163  0.668634  0.722014\n",
      "20  0.426517  0.532387   0.550934  0.501831  0.541298\n",
      "30  0.426522  0.532641   0.550433  0.501795  0.541197\n",
      "40  0.426522  0.532641   0.550433  0.501795  0.541197\n",
      "50  0.426522  0.532641   0.550433  0.501795  0.541197\n"
     ]
    },
    {
     "name": "stderr",
     "output_type": "stream",
     "text": [
      "\n",
      "\n",
      "\n",
      "\n",
      "\n",
      "\n",
      "\n",
      "\n",
      "\n",
      "\n",
      "\n",
      " 40%|████      | 2/5 [04:58<06:28, 129.47s/it]\u001b[A\u001b[A\u001b[A\u001b[A\u001b[A\u001b[A\u001b[A\u001b[A\u001b[A\u001b[A\u001b[A"
     ]
    },
    {
     "name": "stdout",
     "output_type": "stream",
     "text": [
      "0.7027027027027027\n",
      "    accuracy    recall  precision   roc_auc        f1\n",
      "10  0.567959  0.709795   0.735163  0.668634  0.722014\n",
      "20  0.567058  0.709313   0.735037  0.668635  0.721697\n",
      "30  0.426522  0.532641   0.550433  0.501795  0.541197\n",
      "40  0.426522  0.532641   0.550433  0.501795  0.541197\n",
      "50  0.426522  0.532641   0.550433  0.501795  0.541197\n"
     ]
    },
    {
     "name": "stderr",
     "output_type": "stream",
     "text": [
      "\n",
      "\n",
      "\n",
      "\n",
      "\n",
      "\n",
      "\n",
      "\n",
      "\n",
      "\n",
      "\n",
      " 60%|██████    | 3/5 [09:56<05:59, 179.88s/it]\u001b[A\u001b[A\u001b[A\u001b[A\u001b[A\u001b[A\u001b[A\u001b[A\u001b[A\u001b[A\u001b[A"
     ]
    },
    {
     "name": "stdout",
     "output_type": "stream",
     "text": [
      "0.7027027027027027\n",
      "    accuracy    recall  precision   roc_auc        f1\n",
      "10  0.567959  0.709795   0.735163  0.668634  0.722014\n",
      "20  0.567058  0.709313   0.735037  0.668635  0.721697\n",
      "30  0.567062  0.709568   0.734535  0.668599  0.721597\n",
      "40  0.426522  0.532641   0.550433  0.501795  0.541197\n",
      "50  0.426522  0.532641   0.550433  0.501795  0.541197\n"
     ]
    },
    {
     "name": "stderr",
     "output_type": "stream",
     "text": [
      "\n",
      "\n",
      "\n",
      "\n",
      "\n",
      "\n",
      "\n",
      "\n",
      "\n",
      "\n",
      "\n",
      " 80%|████████  | 4/5 [16:29<04:03, 243.70s/it]\u001b[A\u001b[A\u001b[A\u001b[A\u001b[A\u001b[A\u001b[A\u001b[A\u001b[A\u001b[A\u001b[A"
     ]
    },
    {
     "name": "stdout",
     "output_type": "stream",
     "text": [
      "0.7027027027027027\n",
      "    accuracy    recall  precision   roc_auc        f1\n",
      "10  0.567959  0.709795   0.735163  0.668634  0.722014\n",
      "20  0.567058  0.709313   0.735037  0.668635  0.721697\n",
      "30  0.567062  0.709568   0.734535  0.668599  0.721597\n",
      "40  0.567062  0.709568   0.734535  0.668599  0.721597\n",
      "50  0.426522  0.532641   0.550433  0.501795  0.541197\n"
     ]
    },
    {
     "name": "stderr",
     "output_type": "stream",
     "text": [
      "\n",
      "\n",
      "\n",
      "\n",
      "\n",
      "\n",
      "\n",
      "\n",
      "\n",
      "\n",
      "\n",
      "100%|██████████| 5/5 [24:32<00:00, 294.60s/it]\n",
      "\n",
      "\n",
      "\n",
      "\n",
      "\n",
      "\n",
      "\n",
      "\n",
      "\n",
      "\n",
      "4it [1:40:07, 1505.07s/it]\u001b[A\u001b[A\u001b[A\u001b[A\u001b[A\u001b[A\u001b[A\u001b[A\u001b[A\u001b[A"
     ]
    },
    {
     "name": "stdout",
     "output_type": "stream",
     "text": [
      "0.7027027027027027\n",
      "    accuracy    recall  precision   roc_auc        f1\n",
      "10  0.567959  0.709795   0.735163  0.668634  0.722014\n",
      "20  0.567058  0.709313   0.735037  0.668635  0.721697\n",
      "30  0.567062  0.709568   0.734535  0.668599  0.721597\n",
      "40  0.567062  0.709568   0.734535  0.668599  0.721597\n",
      "50  0.567062  0.709568   0.734535  0.668599  0.721597\n"
     ]
    },
    {
     "name": "stderr",
     "output_type": "stream",
     "text": [
      "\n",
      "\n",
      "\n",
      "\n",
      "\n",
      "\n",
      "\n",
      "\n",
      "\n",
      "\n",
      "\n",
      "  0%|          | 0/5 [00:00<?, ?it/s]\u001b[A\u001b[A\u001b[A\u001b[A\u001b[A\u001b[A\u001b[A\u001b[A\u001b[A\u001b[A\u001b[A\n",
      "\n",
      "\n",
      "\n",
      "\n",
      "\n",
      "\n",
      "\n",
      "\n",
      "\n",
      "\n",
      " 20%|██        | 1/5 [01:37<06:29, 97.50s/it]\u001b[A\u001b[A\u001b[A\u001b[A\u001b[A\u001b[A\u001b[A\u001b[A\u001b[A\u001b[A\u001b[A"
     ]
    },
    {
     "name": "stdout",
     "output_type": "stream",
     "text": [
      "0.7117117117117117\n",
      "    accuracy    recall  precision   roc_auc        f1\n",
      "10  0.710301  0.889692   0.916267  0.834625  0.902506\n",
      "20  0.567058  0.709313   0.735037  0.668635  0.721697\n",
      "30  0.567062  0.709568   0.734535  0.668599  0.721597\n",
      "40  0.567062  0.709568   0.734535  0.668599  0.721597\n",
      "50  0.567062  0.709568   0.734535  0.668599  0.721597\n"
     ]
    },
    {
     "name": "stderr",
     "output_type": "stream",
     "text": [
      "\n",
      "\n",
      "\n",
      "\n",
      "\n",
      "\n",
      "\n",
      "\n",
      "\n",
      "\n",
      "\n",
      " 40%|████      | 2/5 [04:52<06:19, 126.64s/it]\u001b[A\u001b[A\u001b[A\u001b[A\u001b[A\u001b[A\u001b[A\u001b[A\u001b[A\u001b[A\u001b[A"
     ]
    },
    {
     "name": "stdout",
     "output_type": "stream",
     "text": [
      "0.7117117117117117\n",
      "    accuracy    recall  precision   roc_auc        f1\n",
      "10  0.710301  0.889692   0.916267  0.834625  0.902506\n",
      "20  0.709400  0.889578   0.916140  0.834946  0.902372\n",
      "30  0.567062  0.709568   0.734535  0.668599  0.721597\n",
      "40  0.567062  0.709568   0.734535  0.668599  0.721597\n",
      "50  0.567062  0.709568   0.734535  0.668599  0.721597\n"
     ]
    },
    {
     "name": "stderr",
     "output_type": "stream",
     "text": [
      "\n",
      "\n",
      "\n",
      "\n",
      "\n",
      "\n",
      "\n",
      "\n",
      "\n",
      "\n",
      "\n",
      " 60%|██████    | 3/5 [09:44<05:52, 176.35s/it]\u001b[A\u001b[A\u001b[A\u001b[A\u001b[A\u001b[A\u001b[A\u001b[A\u001b[A\u001b[A\u001b[A"
     ]
    },
    {
     "name": "stdout",
     "output_type": "stream",
     "text": [
      "0.7117117117117117\n",
      "    accuracy    recall  precision   roc_auc        f1\n",
      "10  0.710301  0.889692   0.916267  0.834625  0.902506\n",
      "20  0.709400  0.889578   0.916140  0.834946  0.902372\n",
      "30  0.709404  0.889833   0.915639  0.834910  0.902272\n",
      "40  0.567062  0.709568   0.734535  0.668599  0.721597\n",
      "50  0.567062  0.709568   0.734535  0.668599  0.721597\n"
     ]
    },
    {
     "name": "stderr",
     "output_type": "stream",
     "text": [
      "\n",
      "\n",
      "\n",
      "\n",
      "\n",
      "\n",
      "\n",
      "\n",
      "\n",
      "\n",
      "\n",
      " 80%|████████  | 4/5 [16:25<04:03, 243.89s/it]\u001b[A\u001b[A\u001b[A\u001b[A\u001b[A\u001b[A\u001b[A\u001b[A\u001b[A\u001b[A\u001b[A"
     ]
    },
    {
     "name": "stdout",
     "output_type": "stream",
     "text": [
      "0.7117117117117117\n",
      "    accuracy    recall  precision   roc_auc        f1\n",
      "10  0.710301  0.889692   0.916267  0.834625  0.902506\n",
      "20  0.709400  0.889578   0.916140  0.834946  0.902372\n",
      "30  0.709404  0.889833   0.915639  0.834910  0.902272\n",
      "40  0.709404  0.889833   0.915639  0.834910  0.902272\n",
      "50  0.567062  0.709568   0.734535  0.668599  0.721597\n"
     ]
    },
    {
     "name": "stderr",
     "output_type": "stream",
     "text": [
      "\n",
      "\n",
      "\n",
      "\n",
      "\n",
      "\n",
      "\n",
      "\n",
      "\n",
      "\n",
      "\n",
      "100%|██████████| 5/5 [24:50<00:00, 298.00s/it]\n",
      "\n",
      "\n",
      "\n",
      "\n",
      "\n",
      "\n",
      "\n",
      "\n",
      "\n",
      "\n",
      "5it [2:04:57, 1499.55s/it]"
     ]
    },
    {
     "name": "stdout",
     "output_type": "stream",
     "text": [
      "0.7117117117117117\n",
      "    accuracy    recall  precision   roc_auc        f1\n",
      "10  0.710301  0.889692   0.916267  0.834625  0.902506\n",
      "20  0.709400  0.889578   0.916140  0.834946  0.902372\n",
      "30  0.709404  0.889833   0.915639  0.834910  0.902272\n",
      "40  0.709404  0.889833   0.915639  0.834910  0.902272\n",
      "50  0.709404  0.889833   0.915639  0.834910  0.902272\n"
     ]
    },
    {
     "name": "stderr",
     "output_type": "stream",
     "text": [
      "\n"
     ]
    }
   ],
   "source": [
    "from sklearn.multioutput import ClassifierChain\n",
    "from sklearn.linear_model import LogisticRegression\n",
    "import warnings\n",
    "warnings.filterwarnings('ignore')\n",
    "    \n",
    "chains_results = pd.DataFrame({'accuracy': [0.0, 0.0, 0.0, 0.0, 0.0], 'recall': [0.0, 0.0, 0.0, 0.0, 0.0], \n",
    "                               'precision': [0.0, 0.0, 0.0, 0.0, 0.0], 'roc_auc': [0.0, 0.0, 0.0, 0.0, 0.0], \n",
    "                               'f1': [0.0, 0.0, 0.0, 0.0, 0.0]}, index=[10, 20, 30, 40, 50])\n",
    "\n",
    "for train_index, test_index in tqdm(mskf.split(X_array, y_array)):\n",
    "    X_train, X_test = X_array[train_index], X_array[test_index]\n",
    "    y_train, y_test = y_array[train_index], y_array[test_index]\n",
    "    for t in tqdm([10, 20, 30, 40, 50]):\n",
    "        base_lr = LogisticRegression()\n",
    "        chains = [ClassifierChain(base_lr, order='random', random_state=i) for i in range(t)]\n",
    "        for chain in chains:\n",
    "            chain.fit(X_train, y_train)\n",
    "        y_pred = np.array([chain.predict(X_test) for chain in chains]).mean(axis=0)\n",
    "        y_pred[y_pred >= 0.5] = 1\n",
    "        y_pred[y_pred < 0.5] = 0\n",
    "        print(accuracy_score(y_pred, y_test))\n",
    "        chains_results.at[t, 'accuracy'] = chains_results.at[t, 'accuracy'] + accuracy_score(y_pred, y_test) / 5\n",
    "        chains_results.at[t, \"precision\"] = chains_results.at[t, \"precision\"] + precision_score(y_pred, y_test, average='macro') / 5\n",
    "        chains_results.at[t, \"recall\"] = chains_results.at[t, \"recall\"] + recall_score(y_pred, y_test, average='macro') / 5\n",
    "        chains_results.at[t, \"roc_auc\"] = chains_results.at[t, \"roc_auc\"] + roc_auc_score(y_pred, y_test, average='macro') / 5\n",
    "        chains_results.at[t, \"f1\"] = chains_results.at[t, \"f1\"] + f1_score(y_pred, y_test, average='macro') / 5\n",
    "        print(chains_results)"
   ]
  },
  {
   "cell_type": "code",
   "execution_count": 0,
   "metadata": {
    "colab": {
     "base_uri": "https://localhost:8080/",
     "height": 204
    },
    "colab_type": "code",
    "id": "HRkdouK7nnOQ",
    "outputId": "9caa38bd-a0e3-490e-c2db-7f477852f3fe"
   },
   "outputs": [
    {
     "data": {
      "text/html": [
       "<div>\n",
       "<style scoped>\n",
       "    .dataframe tbody tr th:only-of-type {\n",
       "        vertical-align: middle;\n",
       "    }\n",
       "\n",
       "    .dataframe tbody tr th {\n",
       "        vertical-align: top;\n",
       "    }\n",
       "\n",
       "    .dataframe thead th {\n",
       "        text-align: right;\n",
       "    }\n",
       "</style>\n",
       "<table border=\"1\" class=\"dataframe\">\n",
       "  <thead>\n",
       "    <tr style=\"text-align: right;\">\n",
       "      <th></th>\n",
       "      <th>accuracy</th>\n",
       "      <th>recall</th>\n",
       "      <th>precision</th>\n",
       "      <th>roc_auc</th>\n",
       "      <th>f1</th>\n",
       "    </tr>\n",
       "  </thead>\n",
       "  <tbody>\n",
       "    <tr>\n",
       "      <th>10</th>\n",
       "      <td>0.710301</td>\n",
       "      <td>0.889692</td>\n",
       "      <td>0.916267</td>\n",
       "      <td>0.834625</td>\n",
       "      <td>0.902506</td>\n",
       "    </tr>\n",
       "    <tr>\n",
       "      <th>20</th>\n",
       "      <td>0.709400</td>\n",
       "      <td>0.889578</td>\n",
       "      <td>0.916140</td>\n",
       "      <td>0.834946</td>\n",
       "      <td>0.902372</td>\n",
       "    </tr>\n",
       "    <tr>\n",
       "      <th>30</th>\n",
       "      <td>0.709404</td>\n",
       "      <td>0.889833</td>\n",
       "      <td>0.915639</td>\n",
       "      <td>0.834910</td>\n",
       "      <td>0.902272</td>\n",
       "    </tr>\n",
       "    <tr>\n",
       "      <th>40</th>\n",
       "      <td>0.709404</td>\n",
       "      <td>0.889833</td>\n",
       "      <td>0.915639</td>\n",
       "      <td>0.834910</td>\n",
       "      <td>0.902272</td>\n",
       "    </tr>\n",
       "    <tr>\n",
       "      <th>50</th>\n",
       "      <td>0.709404</td>\n",
       "      <td>0.889833</td>\n",
       "      <td>0.915639</td>\n",
       "      <td>0.834910</td>\n",
       "      <td>0.902272</td>\n",
       "    </tr>\n",
       "  </tbody>\n",
       "</table>\n",
       "</div>"
      ],
      "text/plain": [
       "    accuracy    recall  precision   roc_auc        f1\n",
       "10  0.710301  0.889692   0.916267  0.834625  0.902506\n",
       "20  0.709400  0.889578   0.916140  0.834946  0.902372\n",
       "30  0.709404  0.889833   0.915639  0.834910  0.902272\n",
       "40  0.709404  0.889833   0.915639  0.834910  0.902272\n",
       "50  0.709404  0.889833   0.915639  0.834910  0.902272"
      ]
     },
     "execution_count": 55,
     "metadata": {
      "tags": []
     },
     "output_type": "execute_result"
    }
   ],
   "source": [
    "chains_results"
   ]
  }
 ],
 "metadata": {
  "colab": {
   "collapsed_sections": [],
   "machine_shape": "hm",
   "name": "обучила multilabel.ipynb",
   "provenance": []
  },
  "kernelspec": {
   "display_name": "Python 3",
   "language": "python",
   "name": "python3"
  },
  "language_info": {
   "codemirror_mode": {
    "name": "ipython",
    "version": 3
   },
   "file_extension": ".py",
   "mimetype": "text/x-python",
   "name": "python",
   "nbconvert_exporter": "python",
   "pygments_lexer": "ipython3",
   "version": "3.6.5"
  }
 },
 "nbformat": 4,
 "nbformat_minor": 1
}
